{
 "cells": [
  {
   "cell_type": "markdown",
   "metadata": {},
   "source": [
    "# Lysozyme + Mutations tutorial using BIOBB\n",
    "Based on the oficial Gromacs tutorial: http://www.mdtutorials.com/gmx/lysozyme/01_pdb2gmx.html"
   ]
  },
  {
   "cell_type": "code",
   "execution_count": 7,
   "metadata": {},
   "outputs": [],
   "source": [
    "import os\n",
    "import sys\n",
    "import nglview\n",
    "import ipywidgets"
   ]
  },
  {
   "cell_type": "markdown",
   "metadata": {},
   "source": [
    "## Dowload the initial Structure\n",
    "Download the initial PDB file from a PDB code (1AKI) from the IRB (http://mmb.irbbarcelona.org/api) REST API.\n",
    "The PDB will be dowloaded without solvent or HETATM."
   ]
  },
  {
   "cell_type": "code",
   "execution_count": 8,
   "metadata": {},
   "outputs": [
    {
     "name": "stderr",
     "output_type": "stream",
     "text": [
      "2019-01-21 22:26:06,040 [MainThread  ] [INFO ]  Downloading: 1aki from: https://files.rcsb.org/download/1aki.pdb\n",
      "2019-01-21 22:26:06,692 [MainThread  ] [INFO ]  Writting pdb to: /Users/pau/projects/biobb_workflows/biobb_workflows/lysozyme_tutorial/notebooks/1aki.pdb\n",
      "2019-01-21 22:26:06,694 [MainThread  ] [INFO ]  Filtering lines NOT starting with one of these words: ['ATOM', 'MODEL', 'ENDMDL']\n"
     ]
    }
   ],
   "source": [
    "#Download PDB\n",
    "#Import module\n",
    "from biobb_io.mmb_api.pdb import MmbPdb\n",
    "# Create prop dict and inputs/outputs\n",
    "prop = {'pdb_code':'1aki'}\n",
    "downloaded_pdb_path = '1aki.pdb'\n",
    "#Create and launch bb\n",
    "MmbPdb(output_pdb_path=downloaded_pdb_path, properties=prop).launch()"
   ]
  },
  {
   "cell_type": "code",
   "execution_count": 9,
   "metadata": {},
   "outputs": [
    {
     "data": {
      "application/vnd.jupyter.widget-view+json": {
       "model_id": "27622556d65e47ec89361c85ce40f420",
       "version_major": 2,
       "version_minor": 0
      },
      "text/plain": [
       "NGLWidget()"
      ]
     },
     "metadata": {},
     "output_type": "display_data"
    }
   ],
   "source": [
    "#Show protein\n",
    "view = nglview.show_file(downloaded_pdb_path)\n",
    "view.add_representation(repr_type='ball+stick', selection='all')\n",
    "view._remote_call('setSize', target='Widget', args=['','600px'])\n",
    "view"
   ]
  },
  {
   "cell_type": "markdown",
   "metadata": {},
   "source": [
    "## Modeling the missing heavy atoms in the structure side chains\n",
    "This BB will reconstruct missing atoms from residue side chains and detect all kinds of clashes"
   ]
  },
  {
   "cell_type": "code",
   "execution_count": 10,
   "metadata": {},
   "outputs": [],
   "source": [
    "#Check & Fix PDB\n",
    "#Import module\n",
    "from biobb_model.model.fix_side_chain import FixSideChain\n",
    "# Create prop dict and inputs/outputs\n",
    "fixed_pdb_path = '1aki_fixed.pdb'\n",
    "#Create and launch bb\n",
    "FixSideChain(input_pdb_path=downloaded_pdb_path, output_pdb_path=fixed_pdb_path).launch()"
   ]
  },
  {
   "cell_type": "code",
   "execution_count": 11,
   "metadata": {},
   "outputs": [
    {
     "data": {
      "application/vnd.jupyter.widget-view+json": {
       "model_id": "dfa5c2bfa3854e3cbb16dee0e99930e8",
       "version_major": 2,
       "version_minor": 0
      },
      "text/plain": [
       "NGLWidget()"
      ]
     },
     "metadata": {},
     "output_type": "display_data"
    }
   ],
   "source": [
    "#Show protein\n",
    "view = nglview.show_file(fixed_pdb_path)\n",
    "view.add_representation(repr_type='ball+stick', selection='all')\n",
    "view._remote_call('setSize', target='Widget', args=['','600px'])\n",
    "view.camera='orthographic'\n",
    "view"
   ]
  },
  {
   "cell_type": "markdown",
   "metadata": {},
   "source": [
    "## Modeling mutation list\n",
    "This BB will mutate existing residues to the requested ones."
   ]
  },
  {
   "cell_type": "code",
   "execution_count": 12,
   "metadata": {},
   "outputs": [],
   "source": [
    "#Mutate protein\n",
    "# Import module to test\n",
    "from biobb_model.model.mutate import Mutate\n",
    "# Create prop dict and inputs/outputs\n",
    "prop = {'mutation_list': 'Val2Tyr'}\n",
    "mutated_pdb_path = '1aki_mutated.pdb'\n",
    "#Create and launch bb\n",
    "Mutate(input_pdb_path=fixed_pdb_path,output_pdb_path=mutated_pdb_path, properties=prop).launch()"
   ]
  },
  {
   "cell_type": "code",
   "execution_count": 13,
   "metadata": {},
   "outputs": [
    {
     "data": {
      "application/vnd.jupyter.widget-view+json": {
       "model_id": "d8a61d3187194dfa8e730dd4abb17f0b",
       "version_major": 2,
       "version_minor": 0
      },
      "text/plain": [
       "HBox(children=(NGLWidget(), NGLWidget()))"
      ]
     },
     "metadata": {},
     "output_type": "display_data"
    }
   ],
   "source": [
    "#Show log and protein\n",
    "view1 = nglview.show_file(fixed_pdb_path)\n",
    "view1.add_representation(repr_type='ball+stick', selection='2:A')\n",
    "view1._remote_call('setSize', target='Widget', args=['500px','600px'])\n",
    "view1.camera='orthographic'\n",
    "view2 = nglview.show_file(mutated_pdb_path)\n",
    "view2.add_representation(repr_type='ball+stick', selection='2:A')\n",
    "view2._remote_call('setSize', target='Widget', args=['500px','600px'])\n",
    "view2.camera='orthographic'\n",
    "ipywidgets.HBox([view1, view2])"
   ]
  },
  {
   "cell_type": "markdown",
   "metadata": {},
   "source": [
    "## Generate the topology\n",
    "Generate the topology using [Pdb2gmx](http://manual.gromacs.org/programs/gmx-pdb2gmx.html) module.\n",
    "The default forcefield is [amber99sb-ildn](https://www.ncbi.nlm.nih.gov/pmc/articles/PMC2970904/) and the default water_type is [spce](http://www.sklogwiki.org/SklogWiki/index.php/SPC/E_model_of_water).\n",
    "This BB will generate 2 main files:\n",
    "-  A compressed ZIP file containing:\n",
    "> -  The [Gromacs topology file](http://manual.gromacs.org/online/top.html) (.top)\n",
    "> -  The [Gromacs position restraint file](http://manual.gromacs.org/online/itp.html) (.itp)\n",
    "-  A post-processed [Gromacs structure file](http://manual.gromacs.org/current/online/gro.html) (.gro)"
   ]
  },
  {
   "cell_type": "code",
   "execution_count": 14,
   "metadata": {},
   "outputs": [
    {
     "name": "stderr",
     "output_type": "stream",
     "text": [
      "2019-01-21 22:26:26,047 [MainThread  ] [INFO ]  GROMACS Pdb2gmx 20181 version detected\n",
      "2019-01-21 22:26:26,352 [MainThread  ] [INFO ]  gmx pdb2gmx -f 1aki_mutated.pdb -o 1aki_pdb2gmx.gro -p p2g.top -water spce -ff amber99sb-ildn -i p2g.itp\n",
      "\n",
      "2019-01-21 22:26:26,353 [MainThread  ] [INFO ]  Exit code 0\n",
      "\n",
      "2019-01-21 22:26:26,355 [MainThread  ] [INFO ]  \n",
      "Using the Amber99sb-ildn force field in directory amber99sb-ildn.ff\n",
      "\n",
      "Reading 1aki_mutated.pdb...\n",
      "Read 1006 atoms\n",
      "Analyzing pdb file\n",
      "Splitting chemical chains based on TER records or chain id changing.\n",
      "There are 1 chains and 0 blocks of water and 129 residues with 1006 atoms\n",
      "\n",
      "  chain  #res #atoms\n",
      "  1 'A'   129   1006  \n",
      "\n",
      "Reading residue database... (amber99sb-ildn)\n",
      "Processing chain 1 'A' (1006 atoms, 129 residues)\n",
      "Identified residue LYS1 as a starting terminus.\n",
      "Identified residue LEU129 as a ending terminus.\n",
      "Checking for duplicate atoms....\n",
      "Generating any missing hydrogen atoms and/or adding termini.\n",
      "Now there are 129 residues with 1965 atoms\n",
      "\t\t--------- PLEASE NOTE ------------\n",
      "You have successfully generated a topology from: 1aki_mutated.pdb.\n",
      "The Amber99sb-ildn force field and the spce water model are used.\n",
      "\t\t--------- ETON ESAELP ------------\n",
      "\n",
      "2019-01-21 22:26:26,356 [MainThread  ] [INFO ]                       :-) GROMACS - gmx pdb2gmx, 2018.1 (-:\n",
      "\n",
      "                            GROMACS is written by:\n",
      "     Emile Apol      Rossen Apostolov      Paul Bauer     Herman J.C. Berendsen\n",
      "    Par Bjelkmar    Aldert van Buuren   Rudi van Drunen     Anton Feenstra  \n",
      "  Gerrit Groenhof    Aleksei Iupinov   Christoph Junghans   Anca Hamuraru   \n",
      " Vincent Hindriksen Dimitrios Karkoulis    Peter Kasson        Jiri Kraus    \n",
      "  Carsten Kutzner      Per Larsson      Justin A. Lemkul    Viveca Lindahl  \n",
      "  Magnus Lundborg   Pieter Meulenhoff    Erik Marklund      Teemu Murtola   \n",
      "    Szilard Pall       Sander Pronk      Roland Schulz     Alexey Shvetsov  \n",
      "   Michael Shirts     Alfons Sijbers     Peter Tieleman    Teemu Virolainen \n",
      " Christian Wennberg    Maarten Wolf   \n",
      "                           and the project leaders:\n",
      "        Mark Abraham, Berk Hess, Erik Lindahl, and David van der Spoel\n",
      "\n",
      "Copyright (c) 1991-2000, University of Groningen, The Netherlands.\n",
      "Copyright (c) 2001-2017, The GROMACS development team at\n",
      "Uppsala University, Stockholm University and\n",
      "the Royal Institute of Technology, Sweden.\n",
      "check out http://www.gromacs.org for more information.\n",
      "\n",
      "GROMACS is free software; you can redistribute it and/or modify it\n",
      "under the terms of the GNU Lesser General Public License\n",
      "as published by the Free Software Foundation; either version 2.1\n",
      "of the License, or (at your option) any later version.\n",
      "\n",
      "GROMACS:      gmx pdb2gmx, version 2018.1\n",
      "Executable:   /usr/local/gromacs/bin/gmx\n",
      "Data prefix:  /usr/local/gromacs\n",
      "Working dir:  /Users/pau/projects/biobb_workflows/biobb_workflows/lysozyme_tutorial/notebooks\n",
      "Command line:\n",
      "  gmx pdb2gmx -f 1aki_mutated.pdb -o 1aki_pdb2gmx.gro -p p2g.top -water spce -ff amber99sb-ildn -i p2g.itp\n",
      "\n",
      "Opening force field file /usr/local/gromacs/share/gromacs/top/amber99sb-ildn.ff/aminoacids.r2b\n",
      "Opening force field file /usr/local/gromacs/share/gromacs/top/amber99sb-ildn.ff/dna.r2b\n",
      "Opening force field file /usr/local/gromacs/share/gromacs/top/amber99sb-ildn.ff/rna.r2b\n",
      "All occupancies are one\n",
      "Opening force field file /usr/local/gromacs/share/gromacs/top/amber99sb-ildn.ff/atomtypes.atp\n",
      "Atomtype 67\n",
      "Opening force field file /usr/local/gromacs/share/gromacs/top/amber99sb-ildn.ff/aminoacids.rtp\n",
      "Residue 93\n",
      "Sorting it all out...\n",
      "Opening force field file /usr/local/gromacs/share/gromacs/top/amber99sb-ildn.ff/dna.rtp\n",
      "Residue 109\n",
      "Sorting it all out...\n",
      "Opening force field file /usr/local/gromacs/share/gromacs/top/amber99sb-ildn.ff/rna.rtp\n",
      "Residue 125\n",
      "Sorting it all out...\n",
      "Opening force field file /usr/local/gromacs/share/gromacs/top/amber99sb-ildn.ff/aminoacids.hdb\n",
      "Opening force field file /usr/local/gromacs/share/gromacs/top/amber99sb-ildn.ff/dna.hdb\n",
      "Opening force field file /usr/local/gromacs/share/gromacs/top/amber99sb-ildn.ff/rna.hdb\n",
      "Opening force field file /usr/local/gromacs/share/gromacs/top/amber99sb-ildn.ff/aminoacids.n.tdb\n",
      "Opening force field file /usr/local/gromacs/share/gromacs/top/amber99sb-ildn.ff/aminoacids.c.tdb\n",
      "Analysing hydrogen-bonding network for automated assignment of histidine\n",
      " protonation. 214 donors and 185 acceptors were found.\n",
      "There are 255 hydrogen bonds\n",
      "Will use HISE for residue 15\n",
      "8 out of 8 lines of specbond.dat converted successfully\n",
      "Special Atom Distance matrix:\n",
      "                    CYS6   MET12   HIS15   CYS30   CYS64   CYS76   CYS80\n",
      "                    SG53    SD92  NE2123   SG243   SG518   SG606   SG635\n",
      "   MET12    SD92   1.166\n",
      "   HIS15  NE2123   1.776   1.019\n",
      "   CYS30   SG243   1.406   1.054   2.069\n",
      "   CYS64   SG518   2.835   1.794   1.789   2.241\n",
      "   CYS76   SG606   2.704   1.551   1.468   2.116   0.765\n",
      "   CYS80   SG635   2.959   1.951   1.916   2.391   0.199   0.944\n",
      "   CYS94   SG729   2.550   1.407   1.382   1.975   0.665   0.202   0.855\n",
      "  MET105   SD804   1.827   0.911   1.683   0.888   1.849   1.461   2.036\n",
      "  CYS115   SG894   1.576   1.084   2.078   0.200   2.111   1.989   2.262\n",
      "  CYS127   SG986   0.197   1.072   1.721   1.313   2.799   2.622   2.934\n",
      "                   CYS94  MET105  CYS115\n",
      "                   SG729   SD804   SG894\n",
      "  MET105   SD804   1.381\n",
      "  CYS115   SG894   1.853   0.790\n",
      "  CYS127   SG986   2.475   1.686   1.483\n",
      "Linking CYS-6 SG-53 and CYS-127 SG-986...\n",
      "Linking CYS-30 SG-243 and CYS-115 SG-894...\n",
      "Linking CYS-64 SG-518 and CYS-80 SG-635...\n",
      "Linking CYS-76 SG-606 and CYS-94 SG-729...\n",
      "Opening force field file /usr/local/gromacs/share/gromacs/top/amber99sb-ildn.ff/aminoacids.arn\n",
      "Opening force field file /usr/local/gromacs/share/gromacs/top/amber99sb-ildn.ff/dna.arn\n",
      "Opening force field file /usr/local/gromacs/share/gromacs/top/amber99sb-ildn.ff/rna.arn\n",
      "Making bonds...\n",
      "Number of bonds was 1991, now 1990\n",
      "Generating angles, dihedrals and pairs...\n",
      "Before cleaning: 5156 pairs\n",
      "Before cleaning: 5468 dihedrals\n",
      "Keeping all generated dihedrals\n",
      "Making cmap torsions...\n",
      "There are 5468 dihedrals,  432 impropers, 3554 angles\n",
      "          5117 pairs,     1990 bonds and     0 virtual sites\n",
      "Total mass 14377.372 a.m.u.\n",
      "Total charge 8.000 e\n",
      "Writing topology\n",
      "\n",
      "Writing coordinate file...\n",
      "\n",
      "GROMACS reminds you: \"No, no, you're not thinking, you're just being logical.\" (Niels Bohr)\n",
      "\n",
      "\n",
      "2019-01-21 22:26:26,357 [MainThread  ] [INFO ]  Compressing topology to: 1aki_pdb2gmx_top.zip\n",
      "2019-01-21 22:26:26,360 [MainThread  ] [INFO ]  Ignored file amber99sb-ildn.ff/forcefield.itp\n",
      "2019-01-21 22:26:26,375 [MainThread  ] [INFO ]  Ignored file amber99sb-ildn.ff/spce.itp\n",
      "2019-01-21 22:26:26,375 [MainThread  ] [INFO ]  Ignored file amber99sb-ildn.ff/ions.itp\n",
      "2019-01-21 22:26:26,381 [MainThread  ] [INFO ]  Adding:\n",
      "2019-01-21 22:26:26,382 [MainThread  ] [INFO ]  ['p2g.itp', 'p2g.top']\n",
      "2019-01-21 22:26:26,383 [MainThread  ] [INFO ]  to: /Users/pau/projects/biobb_workflows/biobb_workflows/lysozyme_tutorial/notebooks/1aki_pdb2gmx_top.zip\n"
     ]
    },
    {
     "data": {
      "text/plain": [
       "0"
      ]
     },
     "execution_count": 14,
     "metadata": {},
     "output_type": "execute_result"
    }
   ],
   "source": [
    "#Create system topology\n",
    "# Import module\n",
    "from biobb_md.gromacs.pdb2gmx import Pdb2gmx\n",
    "# Create inputs/outputs\n",
    "output_pdb2gmx_gro_path = '1aki_pdb2gmx.gro'\n",
    "output_pdb2gmx_top_zip_path = '1aki_pdb2gmx_top.zip'\n",
    "#Create and launch bb\n",
    "Pdb2gmx(input_pdb_path=mutated_pdb_path, output_gro_path=output_pdb2gmx_gro_path, output_top_zip_path=output_pdb2gmx_top_zip_path).launch()"
   ]
  },
  {
   "cell_type": "code",
   "execution_count": 15,
   "metadata": {},
   "outputs": [
    {
     "data": {
      "application/vnd.jupyter.widget-view+json": {
       "model_id": "0cb6b1dbee7b45a796a828b0e051b17f",
       "version_major": 2,
       "version_minor": 0
      },
      "text/plain": [
       "NGLWidget()"
      ]
     },
     "metadata": {},
     "output_type": "display_data"
    }
   ],
   "source": [
    "#Show protein\n",
    "view = nglview.show_file(output_pdb2gmx_gro_path)\n",
    "view.add_representation(repr_type='ball+stick', selection='all')\n",
    "view._remote_call('setSize', target='Widget', args=['','600px'])\n",
    "view.camera='orthographic'\n",
    "view"
   ]
  },
  {
   "cell_type": "markdown",
   "metadata": {},
   "source": [
    "Note that hydrogen atoms had been added to the structure.\n",
    "***"
   ]
  },
  {
   "cell_type": "markdown",
   "metadata": {},
   "source": [
    "## Create the solvent box\n",
    "Create the solvent box using the [Editconf](http://manual.gromacs.org/programs/gmx-editconf.html) module. The box will be centered, the distance between the solute and the box will be 1.0nm and the box shape will be cubic by default. The main output of this BB will be an updated post-procesed Gromacs structure file (.gro). "
   ]
  },
  {
   "cell_type": "code",
   "execution_count": 16,
   "metadata": {},
   "outputs": [
    {
     "name": "stderr",
     "output_type": "stream",
     "text": [
      "2019-01-21 22:26:51,713 [MainThread  ] [INFO ]  GROMACS Editconf 20181 version detected\n",
      "2019-01-21 22:26:51,714 [MainThread  ] [INFO ]  Centering molecule in the box.\n",
      "2019-01-21 22:26:51,716 [MainThread  ] [INFO ]  Distance of the box to molecule:   1.00\n",
      "2019-01-21 22:26:51,717 [MainThread  ] [INFO ]  Box type: cubic\n",
      "2019-01-21 22:26:51,741 [MainThread  ] [INFO ]  gmx editconf -f 1aki_pdb2gmx.gro -o 1aki_editconf.gro -d 1.0 -bt cubic -c\n",
      "\n",
      "2019-01-21 22:26:51,744 [MainThread  ] [INFO ]  Exit code 0\n",
      "\n",
      "2019-01-21 22:26:51,744 [MainThread  ] [INFO ]  Read 1965 atoms\n",
      "Volume: 55.8378 nm^3, corresponds to roughly 25100 electrons\n",
      "No velocities found\n",
      "    system size :  3.817  4.234  3.454 (nm)\n",
      "    diameter    :  5.010               (nm)\n",
      "    center      :  2.781  2.484  0.015 (nm)\n",
      "    box vectors :  3.817  4.235  3.455 (nm)\n",
      "    box angles  :  90.00  90.00  90.00 (degrees)\n",
      "    box volume  :  55.84               (nm^3)\n",
      "    shift       :  0.724  1.021  3.490 (nm)\n",
      "new center      :  3.505  3.505  3.505 (nm)\n",
      "new box vectors :  7.010  7.010  7.010 (nm)\n",
      "new box angles  :  90.00  90.00  90.00 (degrees)\n",
      "new box volume  : 344.48               (nm^3)\n",
      "\n",
      "2019-01-21 22:26:51,746 [MainThread  ] [INFO ]                       :-) GROMACS - gmx editconf, 2018.1 (-:\n",
      "\n",
      "                            GROMACS is written by:\n",
      "     Emile Apol      Rossen Apostolov      Paul Bauer     Herman J.C. Berendsen\n",
      "    Par Bjelkmar    Aldert van Buuren   Rudi van Drunen     Anton Feenstra  \n",
      "  Gerrit Groenhof    Aleksei Iupinov   Christoph Junghans   Anca Hamuraru   \n",
      " Vincent Hindriksen Dimitrios Karkoulis    Peter Kasson        Jiri Kraus    \n",
      "  Carsten Kutzner      Per Larsson      Justin A. Lemkul    Viveca Lindahl  \n",
      "  Magnus Lundborg   Pieter Meulenhoff    Erik Marklund      Teemu Murtola   \n",
      "    Szilard Pall       Sander Pronk      Roland Schulz     Alexey Shvetsov  \n",
      "   Michael Shirts     Alfons Sijbers     Peter Tieleman    Teemu Virolainen \n",
      " Christian Wennberg    Maarten Wolf   \n",
      "                           and the project leaders:\n",
      "        Mark Abraham, Berk Hess, Erik Lindahl, and David van der Spoel\n",
      "\n",
      "Copyright (c) 1991-2000, University of Groningen, The Netherlands.\n",
      "Copyright (c) 2001-2017, The GROMACS development team at\n",
      "Uppsala University, Stockholm University and\n",
      "the Royal Institute of Technology, Sweden.\n",
      "check out http://www.gromacs.org for more information.\n",
      "\n",
      "GROMACS is free software; you can redistribute it and/or modify it\n",
      "under the terms of the GNU Lesser General Public License\n",
      "as published by the Free Software Foundation; either version 2.1\n",
      "of the License, or (at your option) any later version.\n",
      "\n",
      "GROMACS:      gmx editconf, version 2018.1\n",
      "Executable:   /usr/local/gromacs/bin/gmx\n",
      "Data prefix:  /usr/local/gromacs\n",
      "Working dir:  /Users/pau/projects/biobb_workflows/biobb_workflows/lysozyme_tutorial/notebooks\n",
      "Command line:\n",
      "  gmx editconf -f 1aki_pdb2gmx.gro -o 1aki_editconf.gro -d 1.0 -bt cubic -c\n",
      "\n",
      "\n",
      "GROMACS reminds you: \"It's Calling Me to Break my Bonds, Again...\" (Van der Graaf)\n",
      "\n",
      "\n"
     ]
    },
    {
     "data": {
      "text/plain": [
       "0"
      ]
     },
     "execution_count": 16,
     "metadata": {},
     "output_type": "execute_result"
    }
   ],
   "source": [
    "# Editconf: Create solvent box\n",
    "# Import module\n",
    "from biobb_md.gromacs.editconf import Editconf\n",
    "# Create prop dict and inputs/outputs\n",
    "output_editconf_gro_path = '1aki_editconf.gro'\n",
    "#Create and launch bb\n",
    "Editconf(input_gro_path=output_pdb2gmx_gro_path, output_gro_path=output_editconf_gro_path).launch()"
   ]
  },
  {
   "cell_type": "markdown",
   "metadata": {},
   "source": [
    "## Fill the solvent box with water molecules\n",
    "Fill the solvent box using the Gromacs Solvate module. The \"spc216.gro\" will be default solvent model. The main output of this BB will be an updated post-procesed Gromacs structure file (.gro) and a zip file containing the updated topology file (.top) and the restriction files (.itp)."
   ]
  },
  {
   "cell_type": "code",
   "execution_count": 17,
   "metadata": {},
   "outputs": [
    {
     "ename": "TypeError",
     "evalue": "__init__() missing 1 required positional argument: 'properties'",
     "output_type": "error",
     "traceback": [
      "\u001b[0;31m---------------------------------------------------------------------------\u001b[0m",
      "\u001b[0;31mTypeError\u001b[0m                                 Traceback (most recent call last)",
      "\u001b[0;32m<ipython-input-17-3a1d26efca5e>\u001b[0m in \u001b[0;36m<module>\u001b[0;34m\u001b[0m\n\u001b[1;32m      5\u001b[0m \u001b[0moutput_solvate_top_zip_path\u001b[0m \u001b[0;34m=\u001b[0m \u001b[0;34m'1aki_solvate_top.zip'\u001b[0m\u001b[0;34m\u001b[0m\u001b[0m\n\u001b[1;32m      6\u001b[0m \u001b[0;31m#Create and launch bb\u001b[0m\u001b[0;34m\u001b[0m\u001b[0;34m\u001b[0m\u001b[0m\n\u001b[0;32m----> 7\u001b[0;31m \u001b[0mSolvate\u001b[0m\u001b[0;34m(\u001b[0m\u001b[0minput_solute_gro_path\u001b[0m\u001b[0;34m=\u001b[0m\u001b[0moutput_editconf_gro_path\u001b[0m\u001b[0;34m,\u001b[0m \u001b[0moutput_gro_path\u001b[0m\u001b[0;34m=\u001b[0m\u001b[0moutput_solvate_gro_path\u001b[0m\u001b[0;34m,\u001b[0m \u001b[0minput_top_zip_path\u001b[0m\u001b[0;34m=\u001b[0m\u001b[0moutput_pdb2gmx_top_zip_path\u001b[0m\u001b[0;34m,\u001b[0m \u001b[0moutput_top_zip_path\u001b[0m\u001b[0;34m=\u001b[0m\u001b[0moutput_solvate_top_zip_path\u001b[0m\u001b[0;34m)\u001b[0m\u001b[0;34m.\u001b[0m\u001b[0mlaunch\u001b[0m\u001b[0;34m(\u001b[0m\u001b[0;34m)\u001b[0m\u001b[0;34m\u001b[0m\u001b[0m\n\u001b[0m",
      "\u001b[0;31mTypeError\u001b[0m: __init__() missing 1 required positional argument: 'properties'"
     ]
    }
   ],
   "source": [
    "# Solvate: Fill the box with water molecules\n",
    "from biobb_md.gromacs.solvate import Solvate\n",
    "# Create prop dict and inputs/outputs\n",
    "output_solvate_gro_path = '1aki_solvate.gro'\n",
    "output_solvate_top_zip_path = '1aki_solvate_top.zip'\n",
    "#Create and launch bb\n",
    "Solvate(input_solute_gro_path=output_editconf_gro_path, output_gro_path=output_solvate_gro_path, input_top_zip_path=output_pdb2gmx_top_zip_path, output_top_zip_path=output_solvate_top_zip_path).launch()"
   ]
  },
  {
   "cell_type": "code",
   "execution_count": null,
   "metadata": {},
   "outputs": [],
   "source": [
    "#Show protein\n",
    "view = nglview.show_file(output_solvate_gro_path)\n",
    "view.clear_representations()\n",
    "view.add_representation(repr_type='cartoon', selection='protein', color='green')\n",
    "view.add_representation(repr_type='ball+stick', selection='SOL')\n",
    "view._remote_call('setSize', target='Widget', args=['','600px'])\n",
    "view.camera='orthographic'\n",
    "view"
   ]
  },
  {
   "cell_type": "markdown",
   "metadata": {},
   "source": [
    "## Preprocess ion generation\n",
    "Create the [portable binary run file (.tpr)](http://manual.gromacs.org/online/tpr.html) for ion generation, using the Grompp module. The main default parameters for this execution are:\n",
    "-  integrator  = steep         ; Algorithm (steep = steepest descent minimization)\n",
    "-  emtol       = 1000.0        ; Stop minimization when the maximum force < 1000.0 kJ/mol/nm\n",
    "-  emstep      = 0.01          ; Minimization step size\n",
    "-  nsteps      = 50000         ; Maximum number of (minimization) steps to perform\n",
    "\n",
    "The main output of this BB will be the portable binary run file (.tpr)."
   ]
  },
  {
   "cell_type": "code",
   "execution_count": null,
   "metadata": {},
   "outputs": [],
   "source": [
    "# Grompp: Creating portable binary run file for ion generation\n",
    "from biobb_md.gromacs.grompp import Grompp\n",
    "# Create prop dict and inputs/outputs\n",
    "prop = {'mdp':{'type': 'minimization', 'nsteps':'50000'}}\n",
    "output_gppion_tpr_path = '1aki_gppion.tpr'\n",
    "#Create and launch bb\n",
    "Grompp(input_gro_path=output_solvate_gro_path, input_top_zip_path=output_solvate_top_zip_path, output_tpr_path=output_gppion_tpr_path,  properties=prop).launch()"
   ]
  },
  {
   "cell_type": "markdown",
   "metadata": {},
   "source": [
    "## Ion generation\n",
    "Replace solvent molecules to neutralice the system and then reach a 0.05 mol/litre concentration by default. Using the Genion module.\n",
    "The main output of this BB will be an updated post-procesed Gromacs structure file (.gro) and a zip file containing the updated topology file (.top) and the restriction files (.itp)."
   ]
  },
  {
   "cell_type": "code",
   "execution_count": null,
   "metadata": {},
   "outputs": [],
   "source": [
    "# Genion: Adding ions to reach a 0.05 nm concentration\n",
    "from biobb_md.gromacs.genion import Genion\n",
    "# Create prop dict and inputs/outputs\n",
    "prop={'neutral':True, 'concentration':0.05}\n",
    "output_genion_gro_path = '1aki_genion.gro'\n",
    "output_genion_top_zip_path = '1aki_genion_top.zip'\n",
    "#Create and launch bb\n",
    "Genion(input_tpr_path=output_gppion_tpr_path, output_gro_path=output_genion_gro_path, input_top_zip_path=output_solvate_top_zip_path, output_top_zip_path=output_genion_top_zip_path, properties=prop).launch()"
   ]
  },
  {
   "cell_type": "code",
   "execution_count": null,
   "metadata": {},
   "outputs": [],
   "source": [
    "#Show protein\n",
    "view = nglview.show_file(output_genion_gro_path)\n",
    "view.clear_representations()\n",
    "view.add_representation(repr_type='cartoon', selection='protein', color='sstruc')\n",
    "view.add_representation(repr_type='ball+stick', selection='NA')\n",
    "view.add_representation(repr_type='ball+stick', selection='CL')\n",
    "view._remote_call('setSize', target='Widget', args=['','600px'])\n",
    "view.camera='orthographic'\n",
    "view"
   ]
  },
  {
   "cell_type": "markdown",
   "metadata": {},
   "source": [
    "## Preprocess energy minimization\n",
    "Create the [portable binary run file (.tpr)](http://manual.gromacs.org/online/tpr.html) for energy minimization, using the Grompp module. The main default parameters for this execution are:\n",
    "-  integrator  = steep         ; Algorithm (steep = steepest descent minimization)\n",
    "-  emtol       = 500.0         ; Stop minimization when the maximum force < 1000.0 kJ/mol/nm\n",
    "-  emstep      = 0.01          ; Minimization step size\n",
    "-  nsteps      = 50000         ; Maximum number of (minimization) steps to perform\n",
    "\n",
    "The main output of this BB will be the portable binary run file (.tpr)."
   ]
  },
  {
   "cell_type": "code",
   "execution_count": null,
   "metadata": {},
   "outputs": [],
   "source": [
    "# Grompp: Creating portable binary run file for mdrun\n",
    "from biobb_md.gromacs.grompp import Grompp\n",
    "# Create prop dict and inputs/outputs\n",
    "prop = {'mdp':{'type': 'minimization', 'nsteps':'50000', 'emtol':'500'}}\n",
    "output_gppmin_tpr_path = '1aki_gppmin.tpr'\n",
    "#Create and launch bb\n",
    "Grompp(input_gro_path=output_genion_gro_path, input_top_zip_path=output_genion_top_zip_path, output_tpr_path=output_gppmin_tpr_path,  properties=prop).launch()"
   ]
  },
  {
   "cell_type": "markdown",
   "metadata": {},
   "source": [
    "## Execute system equilibration\n",
    "Execute the energy minimization using the MDrun module and the input the portable binary run file (.tpr) as the main input.\n",
    "The main output of this BB will be updated structure file (.gro) and the [Gromacs trajectory file](http://manual.gromacs.org/online/trr.html) (.trr)."
   ]
  },
  {
   "cell_type": "code",
   "execution_count": null,
   "metadata": {},
   "outputs": [],
   "source": [
    "# Mdrun: Running minimization\n",
    "from biobb_md.gromacs.mdrun import Mdrun\n",
    "# Create prop dict and inputs/outputs\n",
    "output_min_trr_path = '1aki_min.trr'\n",
    "output_min_gro_path = '1aki_min.gro'\n",
    "output_min_edr_path = '1aki_min.edr'\n",
    "output_min_log_path = '1aki_min.log'\n",
    "#Create and launch bb\n",
    "Mdrun(input_tpr_path=output_gppmin_tpr_path, output_trr_path=output_min_trr_path, output_gro_path=output_min_gro_path, output_edr_path=output_min_edr_path, output_log_path=output_min_log_path).launch()"
   ]
  },
  {
   "cell_type": "markdown",
   "metadata": {},
   "source": [
    "## Preprocess system temperature equilibration\n",
    "Equilibrate the solvent and ions restraining the protein heavy atoms\n",
    "Create the [portable binary run file (.tpr)](http://manual.gromacs.org/online/tpr.html) for system equilibration, using the Grompp module. The main default parameters for this execution are:\n",
    "-  Define                   = -DPOSRES\n",
    "-  integrator               = md\n",
    "-  dt                       = 0.002\n",
    "-  nsteps                   = 5000\n",
    "-  pcoupl                   = no\n",
    "-  gen_vel                  = yes\n",
    "-  gen_temp                 = 300\n",
    "-  gen_seed                 = -1\n",
    "\n",
    "The main output of this BB will be the portable binary run file (.tpr)."
   ]
  },
  {
   "cell_type": "code",
   "execution_count": null,
   "metadata": {},
   "outputs": [],
   "source": [
    "# Grompp: Creating portable binary run file for Equilibration\n",
    "from biobb_md.gromacs.grompp import Grompp\n",
    "# Create prop dict and inputs/outputs\n",
    "prop = {'mdp':{'type': 'nvt', 'nsteps':'5000'}}\n",
    "output_gppnvt_tpr_path = '1aki_gppnvt.tpr'\n",
    "#Create and launch bb\n",
    "Grompp(input_gro_path=output_min_gro_path, input_top_zip_path=output_genion_top_zip_path, output_tpr_path=output_gppnvt_tpr_path,  properties=prop).launch()"
   ]
  },
  {
   "cell_type": "markdown",
   "metadata": {},
   "source": [
    "## Execute system temperature equilibration\n",
    "Execute the system equilibration using the MDrun module and the input the portable binary run file (.tpr) as the main input.\n",
    "The main output of this BB will be updated structure file (.gro) and the [Gromacs trajectory file](http://manual.gromacs.org/online/trr.html) (.trr)."
   ]
  },
  {
   "cell_type": "code",
   "execution_count": null,
   "metadata": {},
   "outputs": [],
   "source": [
    "# Mdrun: Running Equilibration NVT\n",
    "from biobb_md.gromacs.mdrun import Mdrun\n",
    "# Create prop dict and inputs/outputs\n",
    "output_nvt_trr_path = '1aki_nvt.trr'\n",
    "output_nvt_gro_path = '1aki_nvt.gro'\n",
    "output_nvt_edr_path = '1aki_nvt.edr'\n",
    "output_nvt_log_path = '1aki_nvt.log'\n",
    "output_nvt_cpt_path = '1aki_nvt.cpt'\n",
    "#Create and launch bb\n",
    "Mdrun(input_tpr_path=output_gppnvt_tpr_path, output_trr_path=output_nvt_trr_path, output_gro_path=output_nvt_gro_path, output_edr_path=output_nvt_edr_path, output_log_path=output_nvt_log_path, output_cpt_path=output_nvt_cpt_path).launch()"
   ]
  },
  {
   "cell_type": "markdown",
   "metadata": {},
   "source": [
    "## Preprocess system pressure equilibration\n",
    "Equilibrate the solvent and ions restraining the protein heavy atoms.\n",
    "Create the [portable binary run file (.tpr)](http://manual.gromacs.org/online/tpr.html) for system equilibration, using the Grompp module. The main default parameters for this execution are:\n",
    "-  Define                   = -DPOSRES\n",
    "-  integrator               = md\n",
    "-  dt                       = 0.002\n",
    "-  nsteps                   = 5000\n",
    "-  pcoupl = Parrinello-Rahman\n",
    "-  pcoupltype = isotropic\n",
    "-  tau_p = 1.0\n",
    "-  ref_p = 1.0\n",
    "-  compressibility = 4.5e-5\n",
    "-  refcoord_scaling = com\n",
    "-  gen_vel = no\n",
    "\n",
    "The main output of this BB will be the portable binary run file (.tpr)."
   ]
  },
  {
   "cell_type": "code",
   "execution_count": null,
   "metadata": {},
   "outputs": [],
   "source": [
    "# Grompp: Creating portable binary run file for mdrun\n",
    "from biobb_md.gromacs.grompp import Grompp\n",
    "# Create prop dict and inputs/outputs\n",
    "prop = {'mdp':{'type': 'npt', 'nsteps':'5000'}}\n",
    "output_gppnpt_tpr_path = '1aki_gppnpt.tpr'\n",
    "#Create and launch bb\n",
    "Grompp(input_gro_path=output_nvt_gro_path, input_top_zip_path=output_genion_top_zip_path, output_tpr_path=output_gppnpt_tpr_path, input_cpt_path=output_nvt_cpt_path,  properties=prop).launch()"
   ]
  },
  {
   "cell_type": "markdown",
   "metadata": {},
   "source": [
    "## Execute system pressure equilibration\n",
    "Execute the system equilibration using the MDrun module and the input the portable binary run file (.tpr) as the main input.\n",
    "The main output of this BB will be updated structure file (.gro) and the [Gromacs trajectory file](http://manual.gromacs.org/online/trr.html) (.trr)."
   ]
  },
  {
   "cell_type": "code",
   "execution_count": null,
   "metadata": {},
   "outputs": [],
   "source": [
    "# Mdrun: Running minimization NPT\n",
    "from biobb_md.gromacs.mdrun import Mdrun\n",
    "# Create prop dict and inputs/outputs\n",
    "output_npt_trr_path = '1aki_npt.trr'\n",
    "output_npt_gro_path = '1aki_npt.gro'\n",
    "output_npt_edr_path = '1aki_npt.edr'\n",
    "output_npt_log_path = '1aki_npt.log'\n",
    "output_npt_cpt_path = '1aki_npt.cpt'\n",
    "#Create and launch bb\n",
    "Mdrun(input_tpr_path=output_gppnpt_tpr_path, output_trr_path=output_npt_trr_path, output_gro_path=output_npt_gro_path, output_edr_path=output_npt_edr_path, output_log_path=output_npt_log_path, output_cpt_path=output_npt_cpt_path).launch()"
   ]
  },
  {
   "cell_type": "markdown",
   "metadata": {},
   "source": [
    "## Preprocess free dynamics\n",
    "Free molecular dynamics simulation.\n",
    "Create the [portable binary run file (.tpr)](http://manual.gromacs.org/online/tpr.html) for free molecular dynamics simulation, using the Grompp module. The main default parameters for this execution are:\n",
    "-  integrator               = md\n",
    "-  dt                       = 0.002\n",
    "-  nsteps                   = 5000\n",
    "\n",
    "The main output of this BB will be the portable binary run file (.tpr)."
   ]
  },
  {
   "cell_type": "code",
   "execution_count": null,
   "metadata": {},
   "outputs": [],
   "source": [
    "# Grompp: Creating portable binary run file for mdrun\n",
    "from biobb_md.gromacs.grompp import Grompp\n",
    "# Create prop dict and inputs/outputs\n",
    "prop = {'mdp':{'type': 'free', 'nsteps':'5000'}}\n",
    "output_gppmd_tpr_path = '1aki_gppmd.tpr'\n",
    "#Create and launch bb\n",
    "Grompp(input_gro_path=output_npt_gro_path, input_top_zip_path=output_genion_top_zip_path, output_tpr_path=output_gppmd_tpr_path, input_cpt_path=output_npt_cpt_path).launch()"
   ]
  },
  {
   "cell_type": "markdown",
   "metadata": {},
   "source": [
    "## Execute free molecular dynamics simulation\n",
    "Execute the free molecular dynamics simulation  using the MDrun module and the input the portable binary run file (.tpr) as the main input.\n",
    "The main output of this BB will be updated structure file (.gro) and the [Gromacs trajectory file](http://manual.gromacs.org/online/trr.html) (.trr)."
   ]
  },
  {
   "cell_type": "code",
   "execution_count": null,
   "metadata": {},
   "outputs": [],
   "source": [
    "# Mdrun: Running free dynamics\n",
    "from biobb_md.gromacs.mdrun import Mdrun\n",
    "# Create prop dict and inputs/outputs\n",
    "output_md_trr_path = '1aki_md.trr'\n",
    "output_md_gro_path = '1aki_md.gro'\n",
    "output_md_edr_path = '1aki_md.edr'\n",
    "output_md_log_path = '1aki_md.log'\n",
    "output_md_cpt_path = '1aki_md.cpt'\n",
    "#Create and launch bb\n",
    "Mdrun(input_tpr_path=output_gppmd_tpr_path, output_trr_path=output_md_trr_path, output_gro_path=output_md_gro_path, output_edr_path=output_md_edr_path, output_log_path=output_md_log_path, output_cpt_path=output_md_cpt_path).launch()"
   ]
  },
  {
   "cell_type": "code",
   "execution_count": null,
   "metadata": {},
   "outputs": [],
   "source": [
    "#Show protein\n",
    "nglview.show_simpletraj(nglview.SimpletrajTrajectory(output_md_trr_path, output_md_gro_path), gui=True)"
   ]
  },
  {
   "cell_type": "code",
   "execution_count": 6,
   "metadata": {},
   "outputs": [
    {
     "name": "stdout",
     "output_type": "stream",
     "text": [
      "./5b4776de-431d-4c73-9ecf-fdde49ac8b4e\n",
      "./p2g.itp\n",
      "./1aki_fixed.pdb\n",
      "./1aki.pdb\n",
      "./546b724b-3215-4b3c-9f8f-ec3310e251c9\n",
      "./#1aki_pdb2gmx.gro.1#\n",
      "./log.out\n",
      "./#1aki_pdb2gmx.gro.2#\n",
      "./p2g.top\n",
      "./1aki_mutated.pdb\n",
      "./#p2g.top.1#\n",
      "./#p2g.top.2#\n",
      "./.ipynb_checkpoints\n",
      "./#p2g.itp.2#\n",
      "./#p2g.itp.1#\n",
      "./1aki_pdb2gmx_top.zip\n",
      "./1aki_pdb2gmx.gro\n",
      "./log.err\n",
      "./68346f4e-e622-4ae5-bde5-977c7a4d682f\n"
     ]
    }
   ],
   "source": [
    "#Clean the directory Remove everything\n",
    "!find . ! \\( -iname \"*.ipynb\" -o -iname \"box.png\" \\) -exec rm -rf {} 2>/dev/null \\; -print"
   ]
  }
 ],
 "metadata": {
  "kernelspec": {
   "display_name": "Python 3",
   "language": "python",
   "name": "python3"
  },
  "language_info": {
   "codemirror_mode": {
    "name": "ipython",
    "version": 3
   },
   "file_extension": ".py",
   "mimetype": "text/x-python",
   "name": "python",
   "nbconvert_exporter": "python",
   "pygments_lexer": "ipython3",
   "version": "3.5.5"
  }
 },
 "nbformat": 4,
 "nbformat_minor": 2
}

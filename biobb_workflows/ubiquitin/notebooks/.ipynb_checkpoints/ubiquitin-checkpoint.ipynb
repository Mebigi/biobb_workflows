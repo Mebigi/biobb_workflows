{
 "cells": [
  {
   "cell_type": "code",
   "execution_count": 28,
   "metadata": {},
   "outputs": [
    {
     "name": "stderr",
     "output_type": "stream",
     "text": [
      "/anaconda3/envs/dev/lib/python3.5/site-packages/MDAnalysis/due.py:88: UserWarning: No module named 'mock'\n",
      "  warnings.warn(str(err))\n"
     ]
    }
   ],
   "source": [
    "import os\n",
    "import sys\n",
    "import nglview\n",
    "import MDAnalysis\n",
    "import ipywidgets\n",
    "\n",
    "def showlog(file_path='log.out', n_lines=20, delete=True):\n",
    "    with open(file_path) as f:\n",
    "        cont=1\n",
    "        for line in f:\n",
    "            if cont > n_lines: break\n",
    "            print(line, end='')\n",
    "            cont +=1\n",
    "    if delete:\n",
    "        os.remove(file_path)\n"
   ]
  },
  {
   "cell_type": "code",
   "execution_count": 14,
   "metadata": {},
   "outputs": [
    {
     "name": "stdout",
     "output_type": "stream",
     "text": [
      "2018-11-18 19:13:36,100 [MainThread  ] [INFO ]  \n",
      "Downloading:\n",
      "pdb_code: 1ubq\n",
      "from: http://mmb.irbbarcelona.org/api/pdb/1ubq/coords/?filter=/1&group=ATOM\n",
      "2018-11-18 19:13:36,355 [MainThread  ] [INFO ]  \n",
      "Writting: 1ubq\n",
      "to: /Users/pau/projects/biobb_workflows/biobb_workflows/ubiquitin/notebooks/1ubq.pdb\n"
     ]
    },
    {
     "data": {
      "application/vnd.jupyter.widget-view+json": {
       "model_id": "815f652f5d0b482e829d3c5be81186de",
       "version_major": 2,
       "version_minor": 0
      },
      "text/plain": [
       "NGLWidget()"
      ]
     },
     "metadata": {},
     "output_type": "display_data"
    }
   ],
   "source": [
    "#Download PDB\n",
    "\n",
    "#Import module\n",
    "from biobb_io.mmb_api.pdb import MmbPdb\n",
    "# Create prop dict and inputs/outputs\n",
    "prop = {'pdb_code':'1ubq'}\n",
    "downloaded_pdb_path = '1ubq.pdb'\n",
    "#Create and launch bb\n",
    "MmbPdb(output_pdb_path=downloaded_pdb_path, properties=prop).launch()\n",
    "#Show log and protein\n",
    "showlog()\n",
    "nglview.show_file(downloaded_pdb_path)"
   ]
  },
  {
   "cell_type": "code",
   "execution_count": 15,
   "metadata": {},
   "outputs": [
    {
     "name": "stdout",
     "output_type": "stream",
     "text": [
      "===============================================================================\n",
      "=                     MDWeb structure checking utility                        =\n",
      "=                      A. Hospital, J.L. Gelpi 2018                           =\n",
      "===============================================================================\n",
      "\n",
      "Running fixside. Options: --fix All \n",
      "1ubq.pdb\n",
      "Structure 1ubq.pdb loaded\n",
      "Title: \n",
      "Experimental method: unknown\n",
      "Resolution: 0.0 A\n",
      "\n",
      " Num. models: 1\n",
      " Num. chains: 1 (A: Protein)\n",
      " Num. residues:  76\n",
      " Num. residues with ins. codes:  0\n",
      " Num. HETATM residues:  0\n",
      " Num. ligands or modified residues:  0\n",
      " Num. water mol.:  0\n",
      " Num. atoms:  602\n"
     ]
    },
    {
     "data": {
      "application/vnd.jupyter.widget-view+json": {
       "model_id": "d8a55bac19fe4da0b2768bf27947232d",
       "version_major": 2,
       "version_minor": 0
      },
      "text/plain": [
       "NGLWidget()"
      ]
     },
     "metadata": {},
     "output_type": "display_data"
    }
   ],
   "source": [
    "#Check & Fix PDB\n",
    "#Import module\n",
    "from biobb_model.model.fix_side_chain import FixSideChain\n",
    "# Create prop dict and inputs/outputs\n",
    "fixed_pdb_path = '1ubq_fixed.pdb'\n",
    "#Create and launch bb\n",
    "FixSideChain(input_pdb_path=downloaded_pdb_path, output_pdb_path=fixed_pdb_path, properties={}).launch()\n",
    "#Show log and protein\n",
    "showlog()\n",
    "nglview.show_file(fixed_pdb_path)"
   ]
  },
  {
   "cell_type": "code",
   "execution_count": 16,
   "metadata": {},
   "outputs": [
    {
     "name": "stdout",
     "output_type": "stream",
     "text": [
      "===============================================================================\n",
      "=                     MDWeb structure checking utility                        =\n",
      "=                      A. Hospital, J.L. Gelpi 2018                           =\n",
      "===============================================================================\n",
      "\n",
      "Running mutateside. Options: --mut Val26Ala \n",
      "1ubq_fixed.pdb\n",
      "Structure 1ubq_fixed.pdb loaded\n",
      "Title: \n",
      "Experimental method: unknown\n",
      "Resolution: 0.0 A\n",
      "\n",
      " Num. models: 1\n",
      " Num. chains: 1 (A: Protein)\n",
      " Num. residues:  76\n",
      " Num. residues with ins. codes:  0\n",
      " Num. HETATM residues:  0\n",
      " Num. ligands or modified residues:  0\n",
      " Num. water mol.:  0\n",
      " Num. atoms:  602\n"
     ]
    },
    {
     "data": {
      "application/vnd.jupyter.widget-view+json": {
       "model_id": "0300ccfaadc6426ca530dbe46f4aaf38",
       "version_major": 2,
       "version_minor": 0
      },
      "text/plain": [
       "VBox(children=(NGLWidget(), NGLWidget()))"
      ]
     },
     "metadata": {},
     "output_type": "display_data"
    }
   ],
   "source": [
    "#Mutate protein\n",
    "# Import module to test\n",
    "from biobb_model.model.mutate import Mutate\n",
    "# Create prop dict and inputs/outputs\n",
    "prop = {'mutation_list': 'Val26Ala'}\n",
    "mutated_pdb_path = '1ubq_mutated.pdb'\n",
    "#Create and launch bb\n",
    "Mutate(input_pdb_path=fixed_pdb_path,output_pdb_path=mutated_pdb_path, properties=prop).launch()\n",
    "#Show log and protein\n",
    "showlog()\n",
    "view1 = nglview.show_file(fixed_pdb_path)\n",
    "view1.add_representation(repr_type='ball+stick', selection='26:A')\n",
    "view2 = nglview.show_file(mutated_pdb_path)\n",
    "view2.add_representation(repr_type='ball+stick', selection='26:A')\n",
    "ipywidgets.VBox([view1, view2])"
   ]
  },
  {
   "cell_type": "code",
   "execution_count": 17,
   "metadata": {},
   "outputs": [
    {
     "name": "stdout",
     "output_type": "stream",
     "text": [
      "2018-11-18 19:14:07,196 [MainThread  ] [INFO ]  gmx pdb2gmx -f 1ubq_mutated.pdb -o 1ubq_pdb2gmx.gro -p p2g.top -water spce -ff amber99sb-ildn -i p2g.itp\n",
      "\n",
      "2018-11-18 19:14:07,197 [MainThread  ] [INFO ]  Exit code 0\n",
      "\n",
      "2018-11-18 19:14:07,197 [MainThread  ] [INFO ]  b\"\\nUsing the Amber99sb-ildn force field in directory amber99sb-ildn.ff\\n\\nReading 1ubq_mutated.pdb...\\nRead 600 atoms\\nAnalyzing pdb file\\nSplitting chemical chains based on TER records or chain id changing.\\nThere are 1 chains and 0 blocks of water and 76 residues with 600 atoms\\n\\n  chain  #res #atoms\\n  1 'A'    76    600  \\n\\nReading residue database... (amber99sb-ildn)\\nProcessing chain 1 'A' (600 atoms, 76 residues)\\nIdentified residue MET1 as a starting terminus.\\nIdentified residue GLY76 as a ending terminus.\\nChecking for duplicate atoms....\\nGenerating any missing hydrogen atoms and/or adding termini.\\nNow there are 76 residues with 1225 atoms\\n\\t\\t--------- PLEASE NOTE ------------\\nYou have successfully generated a topology from: 1ubq_mutated.pdb.\\nThe Amber99sb-ildn force field and the spce water model are used.\\n\\t\\t--------- ETON ESAELP ------------\\n\"\n",
      "2018-11-18 19:14:07,198 [MainThread  ] [INFO ]  Compressing topology to: 1ubq_pdb2gmx_top.zip\n",
      "2018-11-18 19:14:07,201 [MainThread  ] [INFO ]  Adding:\n",
      "2018-11-18 19:14:07,201 [MainThread  ] [INFO ]  ['p2g.itp', 'p2g.top']\n",
      "2018-11-18 19:14:07,202 [MainThread  ] [INFO ]  to: /Users/pau/projects/biobb_workflows/biobb_workflows/ubiquitin/notebooks/1ubq_pdb2gmx_top.zip\n"
     ]
    },
    {
     "data": {
      "application/vnd.jupyter.widget-view+json": {
       "model_id": "d3a983fe1d674ca6bbe67f5eabd0aeb1",
       "version_major": 2,
       "version_minor": 0
      },
      "text/plain": [
       "NGLWidget()"
      ]
     },
     "metadata": {},
     "output_type": "display_data"
    }
   ],
   "source": [
    "#Create system topology\n",
    "# Import module to test\n",
    "from biobb_md.gromacs.pdb2gmx import Pdb2gmx\n",
    "# Create prop dict and inputs/outputs\n",
    "output_pdb2gmx_gro_path = '1ubq_pdb2gmx.gro'\n",
    "output_pdb2gmx_top_zip_path = '1ubq_pdb2gmx_top.zip'\n",
    "#Create and launch bb\n",
    "Pdb2gmx(input_pdb_path=mutated_pdb_path, output_gro_path=output_pdb2gmx_gro_path, output_top_zip_path=output_pdb2gmx_top_zip_path,  properties=prop).launch()\n",
    "#Show log and protein\n",
    "showlog()\n",
    "nglview.show_file(output_pdb2gmx_gro_path)"
   ]
  },
  {
   "cell_type": "code",
   "execution_count": 18,
   "metadata": {},
   "outputs": [
    {
     "name": "stdout",
     "output_type": "stream",
     "text": [
      "2018-11-18 19:14:40,624 [MainThread  ] [INFO ]  Centering molecule in the box.\n",
      "2018-11-18 19:14:40,625 [MainThread  ] [INFO ]  Distance of the box to molecule: 1.0\n",
      "2018-11-18 19:14:40,625 [MainThread  ] [INFO ]  Box type: cubic\n",
      "2018-11-18 19:14:40,645 [MainThread  ] [INFO ]  gmx editconf -f 1ubq_pdb2gmx.gro -o 1ubq_editconf.gro -d 1.0 -bt cubic -c\n",
      "\n",
      "2018-11-18 19:14:40,646 [MainThread  ] [INFO ]  Exit code 0\n",
      "\n",
      "2018-11-18 19:14:40,646 [MainThread  ] [INFO ]  b'Read 1225 atoms\\nVolume: 36.3758 nm^3, corresponds to roughly 16300 electrons\\nNo velocities found\\n    system size :  3.069  3.238  3.662 (nm)\\n    diameter    :  4.491               (nm)\\n    center      :  3.025  2.902  1.539 (nm)\\n    box vectors :  3.069  3.237  3.662 (nm)\\n    box angles  :  90.00  90.00  90.00 (degrees)\\n    box volume  :  36.38               (nm^3)\\n    shift       :  0.221  0.344  1.707 (nm)\\nnew center      :  3.246  3.246  3.246 (nm)\\nnew box vectors :  6.491  6.491  6.491 (nm)\\nnew box angles  :  90.00  90.00  90.00 (degrees)\\nnew box volume  : 273.54               (nm^3)\\n'\n"
     ]
    },
    {
     "data": {
      "application/vnd.jupyter.widget-view+json": {
       "model_id": "e02596d34d9949a8972ec564514f0ba9",
       "version_major": 2,
       "version_minor": 0
      },
      "text/plain": [
       "NGLWidget()"
      ]
     },
     "metadata": {},
     "output_type": "display_data"
    }
   ],
   "source": [
    "# Import module to test\n",
    "from biobb_md.gromacs.editconf import Editconf\n",
    "# Create prop dict and inputs/outputs\n",
    "output_editconf_gro_path = '1ubq_editconf.gro'\n",
    "#Create and launch bb\n",
    "Editconf(input_gro_path=output_pdb2gmx_gro_path, output_gro_path=output_editconf_gro_path, properties={}).launch()\n",
    "#Show log and protein\n",
    "showlog()\n",
    "nglview.show_file(output_editconf_gro_path)"
   ]
  },
  {
   "cell_type": "code",
   "execution_count": 22,
   "metadata": {},
   "outputs": [
    {
     "name": "stdout",
     "output_type": "stream",
     "text": [
      "2018-11-18 19:25:15,370 [MainThread  ] [INFO ]  Extracting: /Users/pau/projects/biobb_workflows/biobb_workflows/ubiquitin/notebooks/1ubq_pdb2gmx_top.zip\n",
      "2018-11-18 19:25:15,371 [MainThread  ] [INFO ]  to:\n",
      "2018-11-18 19:25:15,372 [MainThread  ] [INFO ]  ['/Users/pau/projects/biobb_workflows/biobb_workflows/ubiquitin/notebooks/p2g.itp', '/Users/pau/projects/biobb_workflows/biobb_workflows/ubiquitin/notebooks/p2g.top']\n",
      "2018-11-18 19:25:15,372 [MainThread  ] [INFO ]  Moving: /Users/pau/projects/biobb_workflows/biobb_workflows/ubiquitin/notebooks/p2g.top to: /Users/pau/projects/biobb_workflows/biobb_workflows/ubiquitin/notebooks/solvate.top\n",
      "2018-11-18 19:25:15,556 [MainThread  ] [INFO ]  gmx solvate -cp 1ubq_editconf.gro -cs spc216.gro -o 1ubq_solvate.gro -p solvate.top\n",
      "\n",
      "2018-11-18 19:25:15,557 [MainThread  ] [INFO ]  Exit code 0\n",
      "\n",
      "2018-11-18 19:25:15,557 [MainThread  ] [INFO ]  b'\\nWARNING: Masses and atomic (Van der Waals) radii will be guessed\\n         based on residue and atom names, since they could not be\\n         definitively assigned from the information in your input\\n         files. These guessed numbers might deviate from the mass\\n         and radius of the atom type. Please check the output\\n         files if necessary.\\n\\nNOTE: From version 5.0 gmx solvate uses the Van der Waals radii\\nfrom the source below. This means the results may be different\\ncompared to previous GROMACS versions.\\n\\n++++ PLEASE READ AND CITE THE FOLLOWING REFERENCE ++++\\nA. Bondi\\nvan der Waals Volumes and Radii\\nJ. Phys. Chem. 68 (1964) pp. 441-451\\n-------- -------- --- Thank You --- -------- --------\\n\\nAdding line for 8540 solvent molecules to topology file (solvate.top)\\n'\n",
      "2018-11-18 19:25:15,561 [MainThread  ] [INFO ]  Adding:\n",
      "2018-11-18 19:25:15,561 [MainThread  ] [INFO ]  ['p2g.itp', 'solvate.top']\n",
      "2018-11-18 19:25:15,562 [MainThread  ] [INFO ]  to: /Users/pau/projects/biobb_workflows/biobb_workflows/ubiquitin/notebooks/1ubq_solvate_top.zip\n"
     ]
    },
    {
     "data": {
      "application/vnd.jupyter.widget-view+json": {
       "model_id": "88cae649250947c9a56f2e9b7bd948b1",
       "version_major": 2,
       "version_minor": 0
      },
      "text/plain": [
       "NGLWidget()"
      ]
     },
     "metadata": {},
     "output_type": "display_data"
    }
   ],
   "source": [
    "# Solvate: Fill the box with water molecules\n",
    "from biobb_md.gromacs.solvate import Solvate\n",
    "# Create prop dict and inputs/outputs\n",
    "output_solvate_gro_path = '1ubq_solvate.gro'\n",
    "output_solvate_top_zip_path = '1ubq_solvate_top.zip'\n",
    "#Create and launch bb\n",
    "Solvate(input_solute_gro_path=output_editconf_gro_path, output_gro_path=output_solvate_gro_path, input_top_zip_path=output_pdb2gmx_top_zip_path, output_top_zip_path=output_solvate_top_zip_path,  properties={}).launch()\n",
    "#Show log and protein\n",
    "showlog()\n",
    "view = nglview.show_file(output_solvate_gro_path)\n",
    "view.add_representation(repr_type='ball+stick', selection='SOL')\n",
    "view"
   ]
  },
  {
   "cell_type": "code",
   "execution_count": 23,
   "metadata": {},
   "outputs": [
    {
     "name": "stdout",
     "output_type": "stream",
     "text": [
      "2018-11-18 19:42:41,547 [MainThread  ] [INFO ]  Extracting: /Users/pau/projects/biobb_workflows/biobb_workflows/ubiquitin/notebooks/1ubq_solvate_top.zip\n",
      "2018-11-18 19:42:41,548 [MainThread  ] [INFO ]  to:\n",
      "2018-11-18 19:42:41,548 [MainThread  ] [INFO ]  ['/Users/pau/projects/biobb_workflows/biobb_workflows/ubiquitin/notebooks/p2g.itp', '/Users/pau/projects/biobb_workflows/biobb_workflows/ubiquitin/notebooks/solvate.top']\n",
      "2018-11-18 19:42:41,549 [MainThread  ] [INFO ]  Moving: /Users/pau/projects/biobb_workflows/biobb_workflows/ubiquitin/notebooks/solvate.top to: /Users/pau/projects/biobb_workflows/biobb_workflows/ubiquitin/notebooks/grompp.top\n",
      "2018-11-18 19:42:41,800 [MainThread  ] [INFO ]  gmx grompp -f grompp.mdp -c 1ubq_solvate.gro -r 1ubq_solvate.gro -p grompp.top -o 1ubq_gppion.tpr -maxwarn 10\n",
      "\n",
      "2018-11-18 19:42:41,801 [MainThread  ] [INFO ]  Exit code 0\n",
      "\n",
      "2018-11-18 19:42:41,801 [MainThread  ] [INFO ]  b'Analysing residue names:\\nThere are:    76    Protein residues\\nThere are:  8540      Water residues\\nAnalysing Protein...\\nCalculating fourier grid dimensions for X Y Z\\nUsing a fourier grid of 56x56x56, spacing 0.116 0.116 0.116\\nThis run will generate roughly 2 Mb of data\\n'\n"
     ]
    }
   ],
   "source": [
    "# Grompp: Creating portable binary run file for ion generation\n",
    "from biobb_md.gromacs.grompp import Grompp\n",
    "# Create prop dict and inputs/outputs\n",
    "prop = {'type': 'minimization', 'nsteps':'5000'}\n",
    "output_gppion_tpr_path = '1ubq_gppion.tpr'\n",
    "#Create and launch bb\n",
    "Grompp(input_gro_path=output_solvate_gro_path, input_top_zip_path=output_solvate_top_zip_path, output_tpr_path=output_gppion_tpr_path,  properties=prop).launch()\n",
    "#Show log and protein\n",
    "showlog()"
   ]
  },
  {
   "cell_type": "code",
   "execution_count": 25,
   "metadata": {},
   "outputs": [
    {
     "name": "stdout",
     "output_type": "stream",
     "text": [
      "2018-11-18 20:16:51,988 [MainThread  ] [INFO ]  To reach up 0.05 mol/litre concentration\n",
      "2018-11-18 20:16:51,992 [MainThread  ] [INFO ]  Extracting: /Users/pau/projects/biobb_workflows/biobb_workflows/ubiquitin/notebooks/1ubq_solvate_top.zip\n",
      "2018-11-18 20:16:51,993 [MainThread  ] [INFO ]  to:\n",
      "2018-11-18 20:16:51,993 [MainThread  ] [INFO ]  ['/Users/pau/projects/biobb_workflows/biobb_workflows/ubiquitin/notebooks/p2g.itp', '/Users/pau/projects/biobb_workflows/biobb_workflows/ubiquitin/notebooks/solvate.top']\n",
      "2018-11-18 20:16:51,994 [MainThread  ] [INFO ]  Moving: /Users/pau/projects/biobb_workflows/biobb_workflows/ubiquitin/notebooks/solvate.top to: /Users/pau/projects/biobb_workflows/biobb_workflows/ubiquitin/notebooks/gio.top\n",
      "2018-11-18 20:16:52,086 [MainThread  ] [INFO ]  echo \"SOL\" | gmx genion -s 1ubq_gppion.tpr -o 1ubq_genion.gro -p gio.top -conc 0.05 -seed 1993\n",
      "\n",
      "2018-11-18 20:16:52,086 [MainThread  ] [INFO ]  Exit code 0\n",
      "\n",
      "2018-11-18 20:16:52,087 [MainThread  ] [INFO ]  b\"Will try to add 8 NA ions and 8 CL ions.\\nSelect a continuous group of solvent molecules\\nSelected 13: 'SOL'\\n\\nProcessing topology\\nReplacing 16 solute molecules in topology file (gio.top)  by 8 NA and 8 CL ions.\\n\"\n",
      "2018-11-18 20:16:52,092 [MainThread  ] [INFO ]  Adding:\n",
      "2018-11-18 20:16:52,092 [MainThread  ] [INFO ]  ['p2g.itp', 'gio.top', 'grompp.top']\n",
      "2018-11-18 20:16:52,093 [MainThread  ] [INFO ]  to: /Users/pau/projects/biobb_workflows/biobb_workflows/ubiquitin/notebooks/1ubq_genion_top.zip\n"
     ]
    },
    {
     "data": {
      "application/vnd.jupyter.widget-view+json": {
       "model_id": "f1445d8ee1764f138c2f5044a1f1848f",
       "version_major": 2,
       "version_minor": 0
      },
      "text/plain": [
       "NGLWidget()"
      ]
     },
     "metadata": {},
     "output_type": "display_data"
    }
   ],
   "source": [
    "# Genion: Adding ions to reach a 0.05 nm concentration\n",
    "from biobb_md.gromacs.genion import Genion\n",
    "# Create prop dict and inputs/outputs\n",
    "output_genion_gro_path = '1ubq_genion.gro'\n",
    "output_genion_top_zip_path = '1ubq_genion_top.zip'\n",
    "#Create and launch bb\n",
    "Genion(input_tpr_path=output_gppion_tpr_path, output_gro_path=output_genion_gro_path, input_top_zip_path=output_solvate_top_zip_path, output_top_zip_path=output_genion_top_zip_path, properties={}).launch()\n",
    "#Show log and protein\n",
    "showlog()\n",
    "view = nglview.show_file(output_genion_gro_path)\n",
    "view.add_representation(repr_type='ball+stick', selection='NA')\n",
    "view.add_representation(repr_type='ball+stick', selection='CL')\n",
    "view"
   ]
  },
  {
   "cell_type": "code",
   "execution_count": 26,
   "metadata": {},
   "outputs": [
    {
     "name": "stdout",
     "output_type": "stream",
     "text": [
      "2018-11-18 20:27:13,694 [MainThread  ] [INFO ]  Extracting: /Users/pau/projects/biobb_workflows/biobb_workflows/ubiquitin/notebooks/1ubq_genion_top.zip\n",
      "2018-11-18 20:27:13,695 [MainThread  ] [INFO ]  to:\n",
      "2018-11-18 20:27:13,696 [MainThread  ] [INFO ]  ['/Users/pau/projects/biobb_workflows/biobb_workflows/ubiquitin/notebooks/p2g.itp', '/Users/pau/projects/biobb_workflows/biobb_workflows/ubiquitin/notebooks/gio.top', '/Users/pau/projects/biobb_workflows/biobb_workflows/ubiquitin/notebooks/grompp.top']\n",
      "2018-11-18 20:27:13,696 [MainThread  ] [INFO ]  Moving: /Users/pau/projects/biobb_workflows/biobb_workflows/ubiquitin/notebooks/gio.top to: /Users/pau/projects/biobb_workflows/biobb_workflows/ubiquitin/notebooks/grompp.top\n",
      "2018-11-18 20:27:13,912 [MainThread  ] [INFO ]  gmx grompp -f grompp.mdp -c 1ubq_genion.gro -r 1ubq_genion.gro -p grompp.top -o 1ubq_gppmin.tpr -maxwarn 10\n",
      "\n",
      "2018-11-18 20:27:13,913 [MainThread  ] [INFO ]  Exit code 0\n",
      "\n",
      "2018-11-18 20:27:13,913 [MainThread  ] [INFO ]  b'Analysing residue names:\\nThere are:    76    Protein residues\\nThere are:  8524      Water residues\\nThere are:    16        Ion residues\\nAnalysing Protein...\\nAnalysing residues not classified as Protein/DNA/RNA/Water and splitting into groups...\\nCalculating fourier grid dimensions for X Y Z\\nUsing a fourier grid of 56x56x56, spacing 0.116 0.116 0.116\\nThis run will generate roughly 2 Mb of data\\n'\n"
     ]
    }
   ],
   "source": [
    "# Grompp: Creating portable binary run file for mdrun\n",
    "from biobb_md.gromacs.grompp import Grompp\n",
    "# Create prop dict and inputs/outputs\n",
    "prop = {'type': 'minimization', 'nsteps':'5000'}\n",
    "output_gppmin_tpr_path = '1ubq_gppmin.tpr'\n",
    "#Create and launch bb\n",
    "Grompp(input_gro_path=output_genion_gro_path, input_top_zip_path=output_genion_top_zip_path, output_tpr_path=output_gppmin_tpr_path,  properties=prop).launch()\n",
    "#Show log and protein\n",
    "showlog()"
   ]
  },
  {
   "cell_type": "code",
   "execution_count": 35,
   "metadata": {},
   "outputs": [
    {
     "name": "stdout",
     "output_type": "stream",
     "text": [
      "2018-11-18 21:08:33,430 [MainThread  ] [INFO ]  gmx mdrun -s 1ubq_gppmin.tpr -o 1ubq_min.trr -c 1ubq_min.gro -e 1ubq_min.edr -g 1ubq_min.log -nt 0\n",
      "\n",
      "2018-11-18 21:08:33,431 [MainThread  ] [INFO ]  Exit code 0\n",
      "\n",
      "2018-11-18 21:08:33,432 [MainThread  ] [INFO ]  b''\n"
     ]
    }
   ],
   "source": [
    "# Mdrun: Running minimization\n",
    "from biobb_md.gromacs.mdrun import Mdrun\n",
    "# Create prop dict and inputs/outputs\n",
    "output_min_trr_path = '1ubq_min.trr'\n",
    "output_min_gro_path = '1ubq_min.gro'\n",
    "output_min_edr_path = '1ubq_min.edr'\n",
    "output_min_log_path = '1ubq_min.log'\n",
    "#Create and launch bb\n",
    "Mdrun(input_tpr_path=output_gppmin_tpr_path, output_trr_path=output_min_trr_path, output_gro_path=output_min_gro_path, output_edr_path=output_min_edr_path, output_log_path=output_min_log_path, properties={}).launch()\n",
    "#Show log and protein\n",
    "showlog()\n",
    "#nglview.show_simpletraj(nglview.SimpletrajTrajectory(output_min_trr_path, output_min_gro_path), gui=True)"
   ]
  },
  {
   "cell_type": "code",
   "execution_count": 36,
   "metadata": {},
   "outputs": [
    {
     "name": "stdout",
     "output_type": "stream",
     "text": [
      "2018-11-18 21:09:38,526 [MainThread  ] [INFO ]  Extracting: /Users/pau/projects/biobb_workflows/biobb_workflows/ubiquitin/notebooks/1ubq_genion_top.zip\n",
      "2018-11-18 21:09:38,527 [MainThread  ] [INFO ]  to:\n",
      "2018-11-18 21:09:38,528 [MainThread  ] [INFO ]  ['/Users/pau/projects/biobb_workflows/biobb_workflows/ubiquitin/notebooks/p2g.itp', '/Users/pau/projects/biobb_workflows/biobb_workflows/ubiquitin/notebooks/gio.top', '/Users/pau/projects/biobb_workflows/biobb_workflows/ubiquitin/notebooks/grompp.top']\n",
      "2018-11-18 21:09:38,529 [MainThread  ] [INFO ]  Moving: /Users/pau/projects/biobb_workflows/biobb_workflows/ubiquitin/notebooks/gio.top to: /Users/pau/projects/biobb_workflows/biobb_workflows/ubiquitin/notebooks/grompp.top\n",
      "2018-11-18 21:09:38,758 [MainThread  ] [INFO ]  gmx grompp -f grompp.mdp -c 1ubq_min.gro -r 1ubq_min.gro -p grompp.top -o 1ubq_gppnvt.tpr -maxwarn 10\n",
      "\n",
      "2018-11-18 21:09:38,759 [MainThread  ] [INFO ]  Exit code 0\n",
      "\n",
      "2018-11-18 21:09:38,760 [MainThread  ] [INFO ]  b'Analysing residue names:\\nThere are:    76    Protein residues\\nThere are:  8524      Water residues\\nThere are:    16        Ion residues\\nAnalysing Protein...\\nAnalysing residues not classified as Protein/DNA/RNA/Water and splitting into groups...\\nCalculating fourier grid dimensions for X Y Z\\nUsing a fourier grid of 56x56x56, spacing 0.116 0.116 0.116\\nThis run will generate roughly 2 Mb of data\\n'\n"
     ]
    }
   ],
   "source": [
    "# Grompp: Creating portable binary run file for mdrun\n",
    "from biobb_md.gromacs.grompp import Grompp\n",
    "# Create prop dict and inputs/outputs\n",
    "prop = {'type': 'nvt', 'nsteps':'10000'}\n",
    "output_gppnvt_tpr_path = '1ubq_gppnvt.tpr'\n",
    "#Create and launch bb\n",
    "Grompp(input_gro_path=output_min_gro_path, input_top_zip_path=output_genion_top_zip_path, output_tpr_path=output_gppnvt_tpr_path,  properties=prop).launch()\n",
    "#Show log and protein\n",
    "showlog()"
   ]
  },
  {
   "cell_type": "code",
   "execution_count": 37,
   "metadata": {},
   "outputs": [
    {
     "name": "stdout",
     "output_type": "stream",
     "text": [
      "2018-11-18 21:12:38,933 [MainThread  ] [INFO ]  gmx mdrun -s 1ubq_gppnvt.tpr -o 1ubq_nvt.trr -c 1ubq_nvt.gro -e 1ubq_nvt.edr -g 1ubq_nvt.log -nt 0 -cpo 1ubq_nvt.cpt\n",
      "\n",
      "2018-11-18 21:12:38,934 [MainThread  ] [INFO ]  Exit code 0\n",
      "\n",
      "2018-11-18 21:12:38,935 [MainThread  ] [INFO ]  b''\n"
     ]
    }
   ],
   "source": [
    "# Mdrun: Running minimization\n",
    "from biobb_md.gromacs.mdrun import Mdrun\n",
    "# Create prop dict and inputs/outputs\n",
    "output_nvt_trr_path = '1ubq_nvt.trr'\n",
    "output_nvt_gro_path = '1ubq_nvt.gro'\n",
    "output_nvt_edr_path = '1ubq_nvt.edr'\n",
    "output_nvt_log_path = '1ubq_nvt.log'\n",
    "output_nvt_cpt_path = '1ubq_nvt.cpt'\n",
    "#Create and launch bb\n",
    "Mdrun(input_tpr_path=output_gppnvt_tpr_path, output_trr_path=output_nvt_trr_path, output_gro_path=output_nvt_gro_path, output_edr_path=output_nvt_edr_path, output_log_path=output_nvt_log_path, output_cpt_path=output_nvt_cpt_path, properties={}).launch()\n",
    "#Show log and protein\n",
    "showlog()"
   ]
  },
  {
   "cell_type": "code",
   "execution_count": 44,
   "metadata": {},
   "outputs": [
    {
     "name": "stdout",
     "output_type": "stream",
     "text": [
      "2018-11-18 22:30:45,610 [MainThread  ] [INFO ]  Extracting: /Users/pau/projects/biobb_workflows/biobb_workflows/ubiquitin/notebooks/1ubq_genion_top.zip\n",
      "2018-11-18 22:30:45,611 [MainThread  ] [INFO ]  to:\n",
      "2018-11-18 22:30:45,612 [MainThread  ] [INFO ]  ['/Users/pau/projects/biobb_workflows/biobb_workflows/ubiquitin/notebooks/p2g.itp', '/Users/pau/projects/biobb_workflows/biobb_workflows/ubiquitin/notebooks/gio.top', '/Users/pau/projects/biobb_workflows/biobb_workflows/ubiquitin/notebooks/grompp.top']\n",
      "2018-11-18 22:30:45,614 [MainThread  ] [INFO ]  Moving: /Users/pau/projects/biobb_workflows/biobb_workflows/ubiquitin/notebooks/gio.top to: /Users/pau/projects/biobb_workflows/biobb_workflows/ubiquitin/notebooks/grompp.top\n",
      "2018-11-18 22:30:45,633 [MainThread  ] [INFO ]  gmx grompp -f grompp.mdp -c 1ubq_nvt.gro -r 1ubq_nvt.gro -p grompp.top -o 1ubq_gppnpt.tpr -maxwarn 10 -t 1ubq_nvt.cpt\n",
      "\n",
      "2018-11-18 22:30:45,634 [MainThread  ] [INFO ]  Exit code 1\n",
      "\n",
      "2018-11-18 22:30:45,635 [MainThread  ] [INFO ]  b''\n"
     ]
    }
   ],
   "source": [
    "# Grompp: Creating portable binary run file for mdrun\n",
    "from biobb_md.gromacs.grompp import Grompp\n",
    "# Create prop dict and inputs/outputs\n",
    "prop = {'type': 'npt', 'nsteps':'10000'}\n",
    "output_gppnpt_tpr_path = '1ubq_gppnpt.tpr'\n",
    "#Create and launch bb\n",
    "Grompp(input_gro_path=output_nvt_gro_path, input_top_zip_path=output_genion_top_zip_path, output_tpr_path=output_gppnpt_tpr_path, input_cpt_path=output_nvt_cpt_path,  properties=prop).launch()\n",
    "#Show log and protein\n",
    "showlog()"
   ]
  },
  {
   "cell_type": "code",
   "execution_count": 39,
   "metadata": {},
   "outputs": [
    {
     "name": "stdout",
     "output_type": "stream",
     "text": [
      "2018-11-18 21:19:16,066 [MainThread  ] [INFO ]  gmx mdrun -s 1ubq_gppnpt.tpr -o 1ubq_npt.trr -c 1ubq_npt.gro -e 1ubq_npt.edr -g 1ubq_npt.log -nt 0 -cpo 1ubq_npt.cpt\n",
      "\n",
      "2018-11-18 21:19:16,068 [MainThread  ] [INFO ]  Exit code 1\n",
      "\n",
      "2018-11-18 21:19:16,069 [MainThread  ] [INFO ]  b''\n"
     ]
    }
   ],
   "source": [
    "# Mdrun: Running minimization\n",
    "from biobb_md.gromacs.mdrun import Mdrun\n",
    "# Create prop dict and inputs/outputs\n",
    "output_npt_trr_path = '1ubq_npt.trr'\n",
    "output_npt_gro_path = '1ubq_npt.gro'\n",
    "output_npt_edr_path = '1ubq_npt.edr'\n",
    "output_npt_log_path = '1ubq_npt.log'\n",
    "output_npt_cpt_path = '1ubq_npt.cpt'\n",
    "#Create and launch bb\n",
    "Mdrun(input_tpr_path=output_gppnpt_tpr_path, output_trr_path=output_npt_trr_path, output_gro_path=output_npt_gro_path, output_edr_path=output_npt_edr_path, output_log_path=output_npt_log_path, output_cpt_path=output_npt_cpt_path, properties={}).launch()\n",
    "#Show log and protein\n",
    "showlog()"
   ]
  },
  {
   "cell_type": "code",
   "execution_count": 40,
   "metadata": {},
   "outputs": [
    {
     "name": "stdout",
     "output_type": "stream",
     "text": [
      "2018-11-18 21:23:04,554 [MainThread  ] [INFO ]  Extracting: /Users/pau/projects/biobb_workflows/biobb_workflows/ubiquitin/notebooks/1ubq_genion_top.zip\n",
      "2018-11-18 21:23:04,555 [MainThread  ] [INFO ]  to:\n",
      "2018-11-18 21:23:04,556 [MainThread  ] [INFO ]  ['/Users/pau/projects/biobb_workflows/biobb_workflows/ubiquitin/notebooks/p2g.itp', '/Users/pau/projects/biobb_workflows/biobb_workflows/ubiquitin/notebooks/gio.top', '/Users/pau/projects/biobb_workflows/biobb_workflows/ubiquitin/notebooks/grompp.top']\n",
      "2018-11-18 21:23:04,557 [MainThread  ] [INFO ]  Moving: /Users/pau/projects/biobb_workflows/biobb_workflows/ubiquitin/notebooks/gio.top to: /Users/pau/projects/biobb_workflows/biobb_workflows/ubiquitin/notebooks/grompp.top\n",
      "2018-11-18 21:23:04,580 [MainThread  ] [INFO ]  gmx grompp -f grompp.mdp -c 1ubq_npt.gro -r 1ubq_npt.gro -p grompp.top -o 1ubq_gppmd.tpr -maxwarn 10 -t 1ubq_npt.cpt\n",
      "\n",
      "2018-11-18 21:23:04,582 [MainThread  ] [INFO ]  Exit code 1\n",
      "\n",
      "2018-11-18 21:23:04,583 [MainThread  ] [INFO ]  b''\n"
     ]
    }
   ],
   "source": [
    "# Grompp: Creating portable binary run file for mdrun\n",
    "from biobb_md.gromacs.grompp import Grompp\n",
    "# Create prop dict and inputs/outputs\n",
    "prop = {'type': 'free', 'nsteps':'5000'}\n",
    "output_gppmd_tpr_path = '1ubq_gppmd.tpr'\n",
    "#Create and launch bb\n",
    "Grompp(input_gro_path=output_npt_gro_path, input_top_zip_path=output_genion_top_zip_path, output_tpr_path=output_gppmd_tpr_path, input_cpt_path=output_npt_cpt_path,  properties=prop).launch()\n",
    "#Show log and protein\n",
    "showlog()"
   ]
  },
  {
   "cell_type": "code",
   "execution_count": null,
   "metadata": {},
   "outputs": [],
   "source": [
    "# Mdrun: Running free dynamics\n",
    "from biobb_md.gromacs.mdrun import Mdrun\n",
    "# Create prop dict and inputs/outputs\n",
    "output_npt_trr_path = '1ubq_npt.trr'\n",
    "output_npt_gro_path = '1ubq_npt.gro'\n",
    "output_npt_edr_path = '1ubq_npt.edr'\n",
    "output_npt_log_path = '1ubq_npt.log'\n",
    "output_npt_cpt_path = '1ubq_npt.cpt'\n",
    "#Create and launch bb\n",
    "Mdrun(input_tpr_path=output_gppnpt_tpr_path, output_trr_path=output_npt_trr_path, output_gro_path=output_npt_gro_path, output_edr_path=output_npt_edr_path, output_log_path=output_npt_log_path, output_cpt_path=output_npt_cpt_path, properties={}).launch()\n",
    "#Show log and protein\n",
    "showlog()"
   ]
  }
 ],
 "metadata": {
  "kernelspec": {
   "display_name": "Python 3",
   "language": "python",
   "name": "python3"
  },
  "language_info": {
   "codemirror_mode": {
    "name": "ipython",
    "version": 3
   },
   "file_extension": ".py",
   "mimetype": "text/x-python",
   "name": "python",
   "nbconvert_exporter": "python",
   "pygments_lexer": "ipython3",
   "version": "3.5.5"
  }
 },
 "nbformat": 4,
 "nbformat_minor": 2
}

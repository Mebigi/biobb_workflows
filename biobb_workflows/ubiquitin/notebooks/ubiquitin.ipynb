{
 "cells": [
  {
   "cell_type": "code",
   "execution_count": 26,
   "metadata": {},
   "outputs": [],
   "source": [
    "import os\n",
    "import sys\n",
    "import nglview\n",
    "import ipywidgets\n",
    "\n",
    "def showlog(file_path='log.out', n_lines=20, delete=True):\n",
    "    with open(file_path) as f:\n",
    "        cont=1\n",
    "        for line in f:\n",
    "            if cont > n_lines: break\n",
    "            print(line, end='')\n",
    "            cont +=1\n",
    "    if delete:\n",
    "        os.remove(file_path)\n"
   ]
  },
  {
   "cell_type": "code",
   "execution_count": 27,
   "metadata": {},
   "outputs": [
    {
     "name": "stdout",
     "output_type": "stream",
     "text": [
      "2018-11-18 22:58:27,637 [MainThread  ] [INFO ]  \n",
      "Downloading:\n",
      "pdb_code: 1ubq\n",
      "from: http://mmb.irbbarcelona.org/api/pdb/1ubq/coords/?filter=/1&group=ATOM\n",
      "2018-11-18 22:58:28,031 [MainThread  ] [INFO ]  \n",
      "Writting: 1ubq\n",
      "to: /Users/pau/projects/biobb_workflows/biobb_workflows/ubiquitin/notebooks/1ubq.pdb\n"
     ]
    },
    {
     "data": {
      "application/vnd.jupyter.widget-view+json": {
       "model_id": "ae553e2efd634b7a82c7dff2b54aaa85",
       "version_major": 2,
       "version_minor": 0
      },
      "text/plain": [
       "NGLWidget()"
      ]
     },
     "metadata": {},
     "output_type": "display_data"
    }
   ],
   "source": [
    "#Download PDB\n",
    "\n",
    "#Import module\n",
    "from biobb_io.mmb_api.pdb import MmbPdb\n",
    "# Create prop dict and inputs/outputs\n",
    "prop = {'pdb_code':'1ubq'}\n",
    "downloaded_pdb_path = '1ubq.pdb'\n",
    "#Create and launch bb\n",
    "MmbPdb(output_pdb_path=downloaded_pdb_path, properties=prop).launch()\n",
    "#Show log and protein\n",
    "showlog()\n",
    "nglview.show_file(downloaded_pdb_path)"
   ]
  },
  {
   "cell_type": "code",
   "execution_count": 28,
   "metadata": {},
   "outputs": [
    {
     "name": "stdout",
     "output_type": "stream",
     "text": [
      "===============================================================================\n",
      "=                     MDWeb structure checking utility                        =\n",
      "=                      A. Hospital, J.L. Gelpi 2018                           =\n",
      "===============================================================================\n",
      "\n",
      "Running fixside. Options: --fix All \n",
      "1ubq.pdb\n",
      "Structure 1ubq.pdb loaded\n",
      "Title: \n",
      "Experimental method: unknown\n",
      "Resolution: 0.0 A\n",
      "\n",
      " Num. models: 1\n",
      " Num. chains: 1 (A: Protein)\n",
      " Num. residues:  76\n",
      " Num. residues with ins. codes:  0\n",
      " Num. HETATM residues:  0\n",
      " Num. ligands or modified residues:  0\n",
      " Num. water mol.:  0\n",
      " Num. atoms:  602\n"
     ]
    },
    {
     "data": {
      "application/vnd.jupyter.widget-view+json": {
       "model_id": "57edf84c8af044ec8036f356d20473e5",
       "version_major": 2,
       "version_minor": 0
      },
      "text/plain": [
       "NGLWidget()"
      ]
     },
     "metadata": {},
     "output_type": "display_data"
    }
   ],
   "source": [
    "#Check & Fix PDB\n",
    "#Import module\n",
    "from biobb_model.model.fix_side_chain import FixSideChain\n",
    "# Create prop dict and inputs/outputs\n",
    "fixed_pdb_path = '1ubq_fixed.pdb'\n",
    "#Create and launch bb\n",
    "FixSideChain(input_pdb_path=downloaded_pdb_path, output_pdb_path=fixed_pdb_path, properties={}).launch()\n",
    "#Show log and protein\n",
    "showlog()\n",
    "nglview.show_file(fixed_pdb_path)"
   ]
  },
  {
   "cell_type": "code",
   "execution_count": 29,
   "metadata": {},
   "outputs": [
    {
     "name": "stdout",
     "output_type": "stream",
     "text": [
      "===============================================================================\n",
      "=                     MDWeb structure checking utility                        =\n",
      "=                      A. Hospital, J.L. Gelpi 2018                           =\n",
      "===============================================================================\n",
      "\n",
      "Running mutateside. Options: --mut Val26Ala \n",
      "1ubq_fixed.pdb\n",
      "Structure 1ubq_fixed.pdb loaded\n",
      "Title: \n",
      "Experimental method: unknown\n",
      "Resolution: 0.0 A\n",
      "\n",
      " Num. models: 1\n",
      " Num. chains: 1 (A: Protein)\n",
      " Num. residues:  76\n",
      " Num. residues with ins. codes:  0\n",
      " Num. HETATM residues:  0\n",
      " Num. ligands or modified residues:  0\n",
      " Num. water mol.:  0\n",
      " Num. atoms:  602\n"
     ]
    },
    {
     "data": {
      "application/vnd.jupyter.widget-view+json": {
       "model_id": "d8026488bb5d4f6db87feab25ca7b040",
       "version_major": 2,
       "version_minor": 0
      },
      "text/plain": [
       "VBox(children=(NGLWidget(), NGLWidget()))"
      ]
     },
     "metadata": {},
     "output_type": "display_data"
    }
   ],
   "source": [
    "#Mutate protein\n",
    "# Import module to test\n",
    "from biobb_model.model.mutate import Mutate\n",
    "# Create prop dict and inputs/outputs\n",
    "prop = {'mutation_list': 'Val26Ala'}\n",
    "mutated_pdb_path = '1ubq_mutated.pdb'\n",
    "#Create and launch bb\n",
    "Mutate(input_pdb_path=fixed_pdb_path,output_pdb_path=mutated_pdb_path, properties=prop).launch()\n",
    "#Show log and protein\n",
    "showlog()\n",
    "view1 = nglview.show_file(fixed_pdb_path)\n",
    "view1.add_representation(repr_type='ball+stick', selection='26:A')\n",
    "view2 = nglview.show_file(mutated_pdb_path)\n",
    "view2.add_representation(repr_type='ball+stick', selection='26:A')\n",
    "ipywidgets.VBox([view1, view2])"
   ]
  },
  {
   "cell_type": "code",
   "execution_count": 30,
   "metadata": {},
   "outputs": [
    {
     "name": "stdout",
     "output_type": "stream",
     "text": [
      "2018-11-18 22:58:34,423 [MainThread  ] [INFO ]  gmx pdb2gmx -f 1ubq_mutated.pdb -o 1ubq_pdb2gmx.gro -p p2g.top -water spce -ff amber99sb-ildn -i p2g.itp\n",
      "\n",
      "2018-11-18 22:58:34,425 [MainThread  ] [INFO ]  Exit code 0\n",
      "\n",
      "2018-11-18 22:58:34,425 [MainThread  ] [INFO ]  b\"\\nUsing the Amber99sb-ildn force field in directory amber99sb-ildn.ff\\n\\nReading 1ubq_mutated.pdb...\\nRead 600 atoms\\nAnalyzing pdb file\\nSplitting chemical chains based on TER records or chain id changing.\\nThere are 1 chains and 0 blocks of water and 76 residues with 600 atoms\\n\\n  chain  #res #atoms\\n  1 'A'    76    600  \\n\\nReading residue database... (amber99sb-ildn)\\nProcessing chain 1 'A' (600 atoms, 76 residues)\\nIdentified residue MET1 as a starting terminus.\\nIdentified residue GLY76 as a ending terminus.\\nChecking for duplicate atoms....\\nGenerating any missing hydrogen atoms and/or adding termini.\\nNow there are 76 residues with 1225 atoms\\n\\t\\t--------- PLEASE NOTE ------------\\nYou have successfully generated a topology from: 1ubq_mutated.pdb.\\nThe Amber99sb-ildn force field and the spce water model are used.\\n\\t\\t--------- ETON ESAELP ------------\\n\"\n",
      "2018-11-18 22:58:34,428 [MainThread  ] [INFO ]  Compressing topology to: 1ubq_pdb2gmx_top.zip\n",
      "2018-11-18 22:58:34,434 [MainThread  ] [INFO ]  Adding:\n",
      "2018-11-18 22:58:34,435 [MainThread  ] [INFO ]  ['p2g.itp', 'p2g.top', 'grompp.top']\n",
      "2018-11-18 22:58:34,436 [MainThread  ] [INFO ]  to: /Users/pau/projects/biobb_workflows/biobb_workflows/ubiquitin/notebooks/1ubq_pdb2gmx_top.zip\n"
     ]
    },
    {
     "data": {
      "application/vnd.jupyter.widget-view+json": {
       "model_id": "b6de8200328e4623b2e945139ef50014",
       "version_major": 2,
       "version_minor": 0
      },
      "text/plain": [
       "NGLWidget()"
      ]
     },
     "metadata": {},
     "output_type": "display_data"
    }
   ],
   "source": [
    "#Create system topology\n",
    "# Import module to test\n",
    "from biobb_md.gromacs.pdb2gmx import Pdb2gmx\n",
    "# Create prop dict and inputs/outputs\n",
    "output_pdb2gmx_gro_path = '1ubq_pdb2gmx.gro'\n",
    "output_pdb2gmx_top_zip_path = '1ubq_pdb2gmx_top.zip'\n",
    "#Create and launch bb\n",
    "Pdb2gmx(input_pdb_path=mutated_pdb_path, output_gro_path=output_pdb2gmx_gro_path, output_top_zip_path=output_pdb2gmx_top_zip_path,  properties=prop).launch()\n",
    "#Show log and protein\n",
    "showlog()\n",
    "nglview.show_file(output_pdb2gmx_gro_path)"
   ]
  },
  {
   "cell_type": "code",
   "execution_count": 31,
   "metadata": {},
   "outputs": [
    {
     "name": "stdout",
     "output_type": "stream",
     "text": [
      "2018-11-18 22:58:36,100 [MainThread  ] [INFO ]  Centering molecule in the box.\n",
      "2018-11-18 22:58:36,100 [MainThread  ] [INFO ]  Distance of the box to molecule: 1.0\n",
      "2018-11-18 22:58:36,101 [MainThread  ] [INFO ]  Box type: cubic\n",
      "2018-11-18 22:58:36,120 [MainThread  ] [INFO ]  gmx editconf -f 1ubq_pdb2gmx.gro -o 1ubq_editconf.gro -d 1.0 -bt cubic -c\n",
      "\n",
      "2018-11-18 22:58:36,122 [MainThread  ] [INFO ]  Exit code 0\n",
      "\n",
      "2018-11-18 22:58:36,123 [MainThread  ] [INFO ]  b'Read 1225 atoms\\nVolume: 36.3758 nm^3, corresponds to roughly 16300 electrons\\nNo velocities found\\n    system size :  3.069  3.238  3.662 (nm)\\n    diameter    :  4.491               (nm)\\n    center      :  3.025  2.902  1.539 (nm)\\n    box vectors :  3.069  3.237  3.662 (nm)\\n    box angles  :  90.00  90.00  90.00 (degrees)\\n    box volume  :  36.38               (nm^3)\\n    shift       :  0.221  0.344  1.707 (nm)\\nnew center      :  3.246  3.246  3.246 (nm)\\nnew box vectors :  6.491  6.491  6.491 (nm)\\nnew box angles  :  90.00  90.00  90.00 (degrees)\\nnew box volume  : 273.54               (nm^3)\\n'\n"
     ]
    },
    {
     "data": {
      "application/vnd.jupyter.widget-view+json": {
       "model_id": "6f37d3b14d4d4a6d8cd813b83bf951f9",
       "version_major": 2,
       "version_minor": 0
      },
      "text/plain": [
       "NGLWidget()"
      ]
     },
     "metadata": {},
     "output_type": "display_data"
    }
   ],
   "source": [
    "# Import module to test\n",
    "from biobb_md.gromacs.editconf import Editconf\n",
    "# Create prop dict and inputs/outputs\n",
    "output_editconf_gro_path = '1ubq_editconf.gro'\n",
    "#Create and launch bb\n",
    "Editconf(input_gro_path=output_pdb2gmx_gro_path, output_gro_path=output_editconf_gro_path, properties={}).launch()\n",
    "#Show log and protein\n",
    "showlog()\n",
    "nglview.show_file(output_editconf_gro_path)"
   ]
  },
  {
   "cell_type": "code",
   "execution_count": 32,
   "metadata": {},
   "outputs": [
    {
     "name": "stdout",
     "output_type": "stream",
     "text": [
      "2018-11-18 22:58:37,168 [MainThread  ] [INFO ]  Extracting: /Users/pau/projects/biobb_workflows/biobb_workflows/ubiquitin/notebooks/1ubq_pdb2gmx_top.zip\n",
      "2018-11-18 22:58:37,168 [MainThread  ] [INFO ]  to:\n",
      "2018-11-18 22:58:37,169 [MainThread  ] [INFO ]  ['/Users/pau/projects/biobb_workflows/biobb_workflows/ubiquitin/notebooks/p2g.itp', '/Users/pau/projects/biobb_workflows/biobb_workflows/ubiquitin/notebooks/p2g.top', '/Users/pau/projects/biobb_workflows/biobb_workflows/ubiquitin/notebooks/grompp.top']\n",
      "2018-11-18 22:58:37,170 [MainThread  ] [INFO ]  Moving: /Users/pau/projects/biobb_workflows/biobb_workflows/ubiquitin/notebooks/p2g.top to: /Users/pau/projects/biobb_workflows/biobb_workflows/ubiquitin/notebooks/solvate.top\n",
      "2018-11-18 22:58:37,345 [MainThread  ] [INFO ]  gmx solvate -cp 1ubq_editconf.gro -cs spc216.gro -o 1ubq_solvate.gro -p solvate.top\n",
      "\n",
      "2018-11-18 22:58:37,347 [MainThread  ] [INFO ]  Exit code 0\n",
      "\n",
      "2018-11-18 22:58:37,348 [MainThread  ] [INFO ]  b'\\nWARNING: Masses and atomic (Van der Waals) radii will be guessed\\n         based on residue and atom names, since they could not be\\n         definitively assigned from the information in your input\\n         files. These guessed numbers might deviate from the mass\\n         and radius of the atom type. Please check the output\\n         files if necessary.\\n\\nNOTE: From version 5.0 gmx solvate uses the Van der Waals radii\\nfrom the source below. This means the results may be different\\ncompared to previous GROMACS versions.\\n\\n++++ PLEASE READ AND CITE THE FOLLOWING REFERENCE ++++\\nA. Bondi\\nvan der Waals Volumes and Radii\\nJ. Phys. Chem. 68 (1964) pp. 441-451\\n-------- -------- --- Thank You --- -------- --------\\n\\nAdding line for 8540 solvent molecules to topology file (solvate.top)\\n'\n",
      "2018-11-18 22:58:37,357 [MainThread  ] [INFO ]  Adding:\n",
      "2018-11-18 22:58:37,358 [MainThread  ] [INFO ]  ['p2g.itp', 'solvate.top', 'grompp.top']\n",
      "2018-11-18 22:58:37,359 [MainThread  ] [INFO ]  to: /Users/pau/projects/biobb_workflows/biobb_workflows/ubiquitin/notebooks/1ubq_solvate_top.zip\n"
     ]
    },
    {
     "data": {
      "application/vnd.jupyter.widget-view+json": {
       "model_id": "c03d511dcdde453fac10b9d9e06d6432",
       "version_major": 2,
       "version_minor": 0
      },
      "text/plain": [
       "NGLWidget()"
      ]
     },
     "metadata": {},
     "output_type": "display_data"
    }
   ],
   "source": [
    "# Solvate: Fill the box with water molecules\n",
    "from biobb_md.gromacs.solvate import Solvate\n",
    "# Create prop dict and inputs/outputs\n",
    "output_solvate_gro_path = '1ubq_solvate.gro'\n",
    "output_solvate_top_zip_path = '1ubq_solvate_top.zip'\n",
    "#Create and launch bb\n",
    "Solvate(input_solute_gro_path=output_editconf_gro_path, output_gro_path=output_solvate_gro_path, input_top_zip_path=output_pdb2gmx_top_zip_path, output_top_zip_path=output_solvate_top_zip_path,  properties={}).launch()\n",
    "#Show log and protein\n",
    "showlog()\n",
    "view = nglview.show_file(output_solvate_gro_path)\n",
    "view.add_representation(repr_type='ball+stick', selection='SOL')\n",
    "view"
   ]
  },
  {
   "cell_type": "code",
   "execution_count": 33,
   "metadata": {},
   "outputs": [
    {
     "name": "stdout",
     "output_type": "stream",
     "text": [
      "2018-11-18 22:58:39,516 [MainThread  ] [INFO ]  Extracting: /Users/pau/projects/biobb_workflows/biobb_workflows/ubiquitin/notebooks/1ubq_solvate_top.zip\n",
      "2018-11-18 22:58:39,517 [MainThread  ] [INFO ]  to:\n",
      "2018-11-18 22:58:39,518 [MainThread  ] [INFO ]  ['/Users/pau/projects/biobb_workflows/biobb_workflows/ubiquitin/notebooks/p2g.itp', '/Users/pau/projects/biobb_workflows/biobb_workflows/ubiquitin/notebooks/solvate.top', '/Users/pau/projects/biobb_workflows/biobb_workflows/ubiquitin/notebooks/grompp.top']\n",
      "2018-11-18 22:58:39,519 [MainThread  ] [INFO ]  Moving: /Users/pau/projects/biobb_workflows/biobb_workflows/ubiquitin/notebooks/solvate.top to: /Users/pau/projects/biobb_workflows/biobb_workflows/ubiquitin/notebooks/grompp.top\n",
      "2018-11-18 22:58:39,715 [MainThread  ] [INFO ]  gmx grompp -f grompp.mdp -c 1ubq_solvate.gro -r 1ubq_solvate.gro -p grompp.top -o 1ubq_gppion.tpr -maxwarn 10\n",
      "\n",
      "2018-11-18 22:58:39,717 [MainThread  ] [INFO ]  Exit code 0\n",
      "\n",
      "2018-11-18 22:58:39,718 [MainThread  ] [INFO ]  b'Analysing residue names:\\nThere are:    76    Protein residues\\nThere are:  8540      Water residues\\nAnalysing Protein...\\nCalculating fourier grid dimensions for X Y Z\\nUsing a fourier grid of 56x56x56, spacing 0.116 0.116 0.116\\nThis run will generate roughly 2 Mb of data\\n'\n"
     ]
    }
   ],
   "source": [
    "# Grompp: Creating portable binary run file for ion generation\n",
    "from biobb_md.gromacs.grompp import Grompp\n",
    "# Create prop dict and inputs/outputs\n",
    "prop = {'mdp':{'type': 'minimization', 'nsteps':'5000'}}\n",
    "output_gppion_tpr_path = '1ubq_gppion.tpr'\n",
    "#Create and launch bb\n",
    "Grompp(input_gro_path=output_solvate_gro_path, input_top_zip_path=output_solvate_top_zip_path, output_tpr_path=output_gppion_tpr_path,  properties=prop).launch()\n",
    "#Show log and protein\n",
    "showlog()"
   ]
  },
  {
   "cell_type": "code",
   "execution_count": 34,
   "metadata": {},
   "outputs": [
    {
     "name": "stdout",
     "output_type": "stream",
     "text": [
      "2018-11-18 22:58:41,225 [MainThread  ] [INFO ]  To reach up 0.05 mol/litre concentration\n",
      "2018-11-18 22:58:41,231 [MainThread  ] [INFO ]  Extracting: /Users/pau/projects/biobb_workflows/biobb_workflows/ubiquitin/notebooks/1ubq_solvate_top.zip\n",
      "2018-11-18 22:58:41,232 [MainThread  ] [INFO ]  to:\n",
      "2018-11-18 22:58:41,233 [MainThread  ] [INFO ]  ['/Users/pau/projects/biobb_workflows/biobb_workflows/ubiquitin/notebooks/p2g.itp', '/Users/pau/projects/biobb_workflows/biobb_workflows/ubiquitin/notebooks/solvate.top', '/Users/pau/projects/biobb_workflows/biobb_workflows/ubiquitin/notebooks/grompp.top']\n",
      "2018-11-18 22:58:41,234 [MainThread  ] [INFO ]  Moving: /Users/pau/projects/biobb_workflows/biobb_workflows/ubiquitin/notebooks/solvate.top to: /Users/pau/projects/biobb_workflows/biobb_workflows/ubiquitin/notebooks/gio.top\n",
      "2018-11-18 22:58:41,321 [MainThread  ] [INFO ]  echo \"SOL\" | gmx genion -s 1ubq_gppion.tpr -o 1ubq_genion.gro -p gio.top -conc 0.05 -seed 1993\n",
      "\n",
      "2018-11-18 22:58:41,322 [MainThread  ] [INFO ]  Exit code 0\n",
      "\n",
      "2018-11-18 22:58:41,323 [MainThread  ] [INFO ]  b\"Will try to add 8 NA ions and 8 CL ions.\\nSelect a continuous group of solvent molecules\\nSelected 13: 'SOL'\\n\\nProcessing topology\\nReplacing 16 solute molecules in topology file (gio.top)  by 8 NA and 8 CL ions.\\n\"\n",
      "2018-11-18 22:58:41,330 [MainThread  ] [INFO ]  Adding:\n",
      "2018-11-18 22:58:41,331 [MainThread  ] [INFO ]  ['p2g.itp', 'gio.top', 'grompp.top']\n",
      "2018-11-18 22:58:41,332 [MainThread  ] [INFO ]  to: /Users/pau/projects/biobb_workflows/biobb_workflows/ubiquitin/notebooks/1ubq_genion_top.zip\n"
     ]
    },
    {
     "data": {
      "application/vnd.jupyter.widget-view+json": {
       "model_id": "aec3c26d74734b8d9df994372984807b",
       "version_major": 2,
       "version_minor": 0
      },
      "text/plain": [
       "NGLWidget()"
      ]
     },
     "metadata": {},
     "output_type": "display_data"
    }
   ],
   "source": [
    "# Genion: Adding ions to reach a 0.05 nm concentration\n",
    "from biobb_md.gromacs.genion import Genion\n",
    "# Create prop dict and inputs/outputs\n",
    "output_genion_gro_path = '1ubq_genion.gro'\n",
    "output_genion_top_zip_path = '1ubq_genion_top.zip'\n",
    "#Create and launch bb\n",
    "Genion(input_tpr_path=output_gppion_tpr_path, output_gro_path=output_genion_gro_path, input_top_zip_path=output_solvate_top_zip_path, output_top_zip_path=output_genion_top_zip_path, properties={}).launch()\n",
    "#Show log and protein\n",
    "showlog()\n",
    "view = nglview.show_file(output_genion_gro_path)\n",
    "view.add_representation(repr_type='ball+stick', selection='NA')\n",
    "view.add_representation(repr_type='ball+stick', selection='CL')\n",
    "view"
   ]
  },
  {
   "cell_type": "code",
   "execution_count": 35,
   "metadata": {},
   "outputs": [
    {
     "name": "stdout",
     "output_type": "stream",
     "text": [
      "2018-11-18 22:58:43,300 [MainThread  ] [INFO ]  Extracting: /Users/pau/projects/biobb_workflows/biobb_workflows/ubiquitin/notebooks/1ubq_genion_top.zip\n",
      "2018-11-18 22:58:43,301 [MainThread  ] [INFO ]  to:\n",
      "2018-11-18 22:58:43,302 [MainThread  ] [INFO ]  ['/Users/pau/projects/biobb_workflows/biobb_workflows/ubiquitin/notebooks/p2g.itp', '/Users/pau/projects/biobb_workflows/biobb_workflows/ubiquitin/notebooks/gio.top', '/Users/pau/projects/biobb_workflows/biobb_workflows/ubiquitin/notebooks/grompp.top']\n",
      "2018-11-18 22:58:43,303 [MainThread  ] [INFO ]  Moving: /Users/pau/projects/biobb_workflows/biobb_workflows/ubiquitin/notebooks/gio.top to: /Users/pau/projects/biobb_workflows/biobb_workflows/ubiquitin/notebooks/grompp.top\n",
      "2018-11-18 22:58:43,509 [MainThread  ] [INFO ]  gmx grompp -f grompp.mdp -c 1ubq_genion.gro -r 1ubq_genion.gro -p grompp.top -o 1ubq_gppmin.tpr -maxwarn 10\n",
      "\n",
      "2018-11-18 22:58:43,511 [MainThread  ] [INFO ]  Exit code 0\n",
      "\n",
      "2018-11-18 22:58:43,511 [MainThread  ] [INFO ]  b'Analysing residue names:\\nThere are:    76    Protein residues\\nThere are:  8524      Water residues\\nThere are:    16        Ion residues\\nAnalysing Protein...\\nAnalysing residues not classified as Protein/DNA/RNA/Water and splitting into groups...\\nCalculating fourier grid dimensions for X Y Z\\nUsing a fourier grid of 56x56x56, spacing 0.116 0.116 0.116\\nThis run will generate roughly 2 Mb of data\\n'\n"
     ]
    }
   ],
   "source": [
    "# Grompp: Creating portable binary run file for mdrun\n",
    "from biobb_md.gromacs.grompp import Grompp\n",
    "# Create prop dict and inputs/outputs\n",
    "prop = {'mdp':{'type': 'minimization', 'nsteps':'5000'}}\n",
    "output_gppmin_tpr_path = '1ubq_gppmin.tpr'\n",
    "#Create and launch bb\n",
    "Grompp(input_gro_path=output_genion_gro_path, input_top_zip_path=output_genion_top_zip_path, output_tpr_path=output_gppmin_tpr_path,  properties=prop).launch()\n",
    "#Show log and protein\n",
    "showlog()"
   ]
  },
  {
   "cell_type": "code",
   "execution_count": 36,
   "metadata": {},
   "outputs": [
    {
     "name": "stdout",
     "output_type": "stream",
     "text": [
      "2018-11-18 22:58:56,231 [MainThread  ] [INFO ]  gmx mdrun -s 1ubq_gppmin.tpr -o 1ubq_min.trr -c 1ubq_min.gro -e 1ubq_min.edr -g 1ubq_min.log -nt 0\n",
      "\n",
      "2018-11-18 22:58:56,233 [MainThread  ] [INFO ]  Exit code 0\n",
      "\n",
      "2018-11-18 22:58:56,234 [MainThread  ] [INFO ]  b''\n"
     ]
    }
   ],
   "source": [
    "# Mdrun: Running minimization\n",
    "from biobb_md.gromacs.mdrun import Mdrun\n",
    "# Create prop dict and inputs/outputs\n",
    "output_min_trr_path = '1ubq_min.trr'\n",
    "output_min_gro_path = '1ubq_min.gro'\n",
    "output_min_edr_path = '1ubq_min.edr'\n",
    "output_min_log_path = '1ubq_min.log'\n",
    "#Create and launch bb\n",
    "Mdrun(input_tpr_path=output_gppmin_tpr_path, output_trr_path=output_min_trr_path, output_gro_path=output_min_gro_path, output_edr_path=output_min_edr_path, output_log_path=output_min_log_path, properties={}).launch()\n",
    "#Show log and protein\n",
    "showlog()"
   ]
  },
  {
   "cell_type": "code",
   "execution_count": 37,
   "metadata": {},
   "outputs": [
    {
     "name": "stdout",
     "output_type": "stream",
     "text": [
      "2018-11-18 22:58:59,450 [MainThread  ] [INFO ]  Extracting: /Users/pau/projects/biobb_workflows/biobb_workflows/ubiquitin/notebooks/1ubq_genion_top.zip\n",
      "2018-11-18 22:58:59,452 [MainThread  ] [INFO ]  to:\n",
      "2018-11-18 22:58:59,453 [MainThread  ] [INFO ]  ['/Users/pau/projects/biobb_workflows/biobb_workflows/ubiquitin/notebooks/p2g.itp', '/Users/pau/projects/biobb_workflows/biobb_workflows/ubiquitin/notebooks/gio.top', '/Users/pau/projects/biobb_workflows/biobb_workflows/ubiquitin/notebooks/grompp.top']\n",
      "2018-11-18 22:58:59,454 [MainThread  ] [INFO ]  Moving: /Users/pau/projects/biobb_workflows/biobb_workflows/ubiquitin/notebooks/gio.top to: /Users/pau/projects/biobb_workflows/biobb_workflows/ubiquitin/notebooks/grompp.top\n",
      "2018-11-18 22:58:59,741 [MainThread  ] [INFO ]  gmx grompp -f grompp.mdp -c 1ubq_min.gro -r 1ubq_min.gro -p grompp.top -o 1ubq_gppnvt.tpr -maxwarn 10\n",
      "\n",
      "2018-11-18 22:58:59,743 [MainThread  ] [INFO ]  Exit code 0\n",
      "\n",
      "2018-11-18 22:58:59,744 [MainThread  ] [INFO ]  b'turning all bonds into constraints...\\nturning all bonds into constraints...\\nturning all bonds into constraints...\\nturning all bonds into constraints...\\nAnalysing residue names:\\nThere are:    76    Protein residues\\nThere are:  8524      Water residues\\nThere are:    16        Ion residues\\nAnalysing Protein...\\nAnalysing residues not classified as Protein/DNA/RNA/Water and splitting into groups...\\nDetermining Verlet buffer for a tolerance of 0.005 kJ/mol/ps at 300 K\\nCalculated rlist for 1x1 atom pair-list as 1.035 nm, buffer size 0.035 nm\\nSet rlist, assuming 4x4 atom pair-list, to 1.000 nm, buffer size 0.000 nm\\nNote that mdrun will redetermine rlist based on the actual pair-list setup\\nCalculating fourier grid dimensions for X Y Z\\nUsing a fourier grid of 56x56x56, spacing 0.116 0.116 0.116\\nThis run will generate roughly 16 Mb of data\\n'\n"
     ]
    }
   ],
   "source": [
    "# Grompp: Creating portable binary run file for mdrun\n",
    "from biobb_md.gromacs.grompp import Grompp\n",
    "# Create prop dict and inputs/outputs\n",
    "prop = {'mdp':{'type': 'nvt', 'nsteps':'5000'}}\n",
    "output_gppnvt_tpr_path = '1ubq_gppnvt.tpr'\n",
    "#Create and launch bb\n",
    "Grompp(input_gro_path=output_min_gro_path, input_top_zip_path=output_genion_top_zip_path, output_tpr_path=output_gppnvt_tpr_path,  properties=prop).launch()\n",
    "#Show log and protein\n",
    "showlog()"
   ]
  },
  {
   "cell_type": "code",
   "execution_count": 38,
   "metadata": {},
   "outputs": [
    {
     "name": "stdout",
     "output_type": "stream",
     "text": [
      "2018-11-18 23:00:14,955 [MainThread  ] [INFO ]  gmx mdrun -s 1ubq_gppnvt.tpr -o 1ubq_nvt.trr -c 1ubq_nvt.gro -e 1ubq_nvt.edr -g 1ubq_nvt.log -nt 0 -cpo 1ubq_nvt.cpt\n",
      "\n",
      "2018-11-18 23:00:14,956 [MainThread  ] [INFO ]  Exit code 0\n",
      "\n",
      "2018-11-18 23:00:14,957 [MainThread  ] [INFO ]  b''\n"
     ]
    }
   ],
   "source": [
    "# Mdrun: Running minimization\n",
    "from biobb_md.gromacs.mdrun import Mdrun\n",
    "# Create prop dict and inputs/outputs\n",
    "output_nvt_trr_path = '1ubq_nvt.trr'\n",
    "output_nvt_gro_path = '1ubq_nvt.gro'\n",
    "output_nvt_edr_path = '1ubq_nvt.edr'\n",
    "output_nvt_log_path = '1ubq_nvt.log'\n",
    "output_nvt_cpt_path = '1ubq_nvt.cpt'\n",
    "#Create and launch bb\n",
    "Mdrun(input_tpr_path=output_gppnvt_tpr_path, output_trr_path=output_nvt_trr_path, output_gro_path=output_nvt_gro_path, output_edr_path=output_nvt_edr_path, output_log_path=output_nvt_log_path, output_cpt_path=output_nvt_cpt_path, properties={}).launch()\n",
    "#Show log and protein\n",
    "showlog()"
   ]
  },
  {
   "cell_type": "code",
   "execution_count": 39,
   "metadata": {},
   "outputs": [
    {
     "name": "stdout",
     "output_type": "stream",
     "text": [
      "2018-11-18 23:00:37,610 [MainThread  ] [INFO ]  Extracting: /Users/pau/projects/biobb_workflows/biobb_workflows/ubiquitin/notebooks/1ubq_genion_top.zip\n",
      "2018-11-18 23:00:37,611 [MainThread  ] [INFO ]  to:\n",
      "2018-11-18 23:00:37,613 [MainThread  ] [INFO ]  ['/Users/pau/projects/biobb_workflows/biobb_workflows/ubiquitin/notebooks/p2g.itp', '/Users/pau/projects/biobb_workflows/biobb_workflows/ubiquitin/notebooks/gio.top', '/Users/pau/projects/biobb_workflows/biobb_workflows/ubiquitin/notebooks/grompp.top']\n",
      "2018-11-18 23:00:37,616 [MainThread  ] [INFO ]  Moving: /Users/pau/projects/biobb_workflows/biobb_workflows/ubiquitin/notebooks/gio.top to: /Users/pau/projects/biobb_workflows/biobb_workflows/ubiquitin/notebooks/grompp.top\n",
      "2018-11-18 23:00:37,994 [MainThread  ] [INFO ]  gmx grompp -f grompp.mdp -c 1ubq_nvt.gro -r 1ubq_nvt.gro -p grompp.top -o 1ubq_gppnpt.tpr -maxwarn 10 -t 1ubq_nvt.cpt\n",
      "\n",
      "2018-11-18 23:00:37,996 [MainThread  ] [INFO ]  Exit code 0\n",
      "\n",
      "2018-11-18 23:00:37,997 [MainThread  ] [INFO ]  b'turning all bonds into constraints...\\nturning all bonds into constraints...\\nturning all bonds into constraints...\\nturning all bonds into constraints...\\nAnalysing residue names:\\nThere are:    76    Protein residues\\nThere are:  8524      Water residues\\nThere are:    16        Ion residues\\nAnalysing Protein...\\nAnalysing residues not classified as Protein/DNA/RNA/Water and splitting into groups...\\nDetermining Verlet buffer for a tolerance of 0.005 kJ/mol/ps at 300 K\\nCalculated rlist for 1x1 atom pair-list as 1.035 nm, buffer size 0.035 nm\\nSet rlist, assuming 4x4 atom pair-list, to 1.000 nm, buffer size 0.000 nm\\nNote that mdrun will redetermine rlist based on the actual pair-list setup\\nCalculating fourier grid dimensions for X Y Z\\nUsing a fourier grid of 56x56x56, spacing 0.116 0.116 0.116\\nThis run will generate roughly 10 Mb of data\\n'\n"
     ]
    }
   ],
   "source": [
    "# Grompp: Creating portable binary run file for mdrun\n",
    "from biobb_md.gromacs.grompp import Grompp\n",
    "# Create prop dict and inputs/outputs\n",
    "prop = {'mdp':{'type': 'npt', 'nsteps':'5000'}}\n",
    "output_gppnpt_tpr_path = '1ubq_gppnpt.tpr'\n",
    "#Create and launch bb\n",
    "Grompp(input_gro_path=output_nvt_gro_path, input_top_zip_path=output_genion_top_zip_path, output_tpr_path=output_gppnpt_tpr_path, input_cpt_path=output_nvt_cpt_path,  properties=prop).launch()\n",
    "#Show log and protein\n",
    "showlog()"
   ]
  },
  {
   "cell_type": "code",
   "execution_count": 40,
   "metadata": {},
   "outputs": [
    {
     "name": "stdout",
     "output_type": "stream",
     "text": [
      "2018-11-18 23:01:21,888 [MainThread  ] [INFO ]  gmx mdrun -s 1ubq_gppnpt.tpr -o 1ubq_npt.trr -c 1ubq_npt.gro -e 1ubq_npt.edr -g 1ubq_npt.log -nt 0 -cpo 1ubq_npt.cpt\n",
      "\n",
      "2018-11-18 23:01:21,890 [MainThread  ] [INFO ]  Exit code 0\n",
      "\n",
      "2018-11-18 23:01:21,891 [MainThread  ] [INFO ]  b''\n"
     ]
    }
   ],
   "source": [
    "# Mdrun: Running minimization\n",
    "from biobb_md.gromacs.mdrun import Mdrun\n",
    "# Create prop dict and inputs/outputs\n",
    "output_npt_trr_path = '1ubq_npt.trr'\n",
    "output_npt_gro_path = '1ubq_npt.gro'\n",
    "output_npt_edr_path = '1ubq_npt.edr'\n",
    "output_npt_log_path = '1ubq_npt.log'\n",
    "output_npt_cpt_path = '1ubq_npt.cpt'\n",
    "#Create and launch bb\n",
    "Mdrun(input_tpr_path=output_gppnpt_tpr_path, output_trr_path=output_npt_trr_path, output_gro_path=output_npt_gro_path, output_edr_path=output_npt_edr_path, output_log_path=output_npt_log_path, output_cpt_path=output_npt_cpt_path, properties={}).launch()\n",
    "#Show log and protein\n",
    "showlog()"
   ]
  },
  {
   "cell_type": "code",
   "execution_count": 42,
   "metadata": {},
   "outputs": [
    {
     "name": "stdout",
     "output_type": "stream",
     "text": [
      "2018-11-18 23:08:07,432 [MainThread  ] [INFO ]  Extracting: /Users/pau/projects/biobb_workflows/biobb_workflows/ubiquitin/notebooks/1ubq_genion_top.zip\n",
      "2018-11-18 23:08:07,434 [MainThread  ] [INFO ]  to:\n",
      "2018-11-18 23:08:07,435 [MainThread  ] [INFO ]  ['/Users/pau/projects/biobb_workflows/biobb_workflows/ubiquitin/notebooks/p2g.itp', '/Users/pau/projects/biobb_workflows/biobb_workflows/ubiquitin/notebooks/gio.top', '/Users/pau/projects/biobb_workflows/biobb_workflows/ubiquitin/notebooks/grompp.top']\n",
      "2018-11-18 23:08:07,438 [MainThread  ] [INFO ]  Moving: /Users/pau/projects/biobb_workflows/biobb_workflows/ubiquitin/notebooks/gio.top to: /Users/pau/projects/biobb_workflows/biobb_workflows/ubiquitin/notebooks/grompp.top\n",
      "2018-11-18 23:08:07,720 [MainThread  ] [INFO ]  gmx grompp -f grompp.mdp -c 1ubq_npt.gro -r 1ubq_npt.gro -p grompp.top -o 1ubq_gppmd.tpr -maxwarn 10 -t 1ubq_npt.cpt\n",
      "\n",
      "2018-11-18 23:08:07,722 [MainThread  ] [INFO ]  Exit code 0\n",
      "\n",
      "2018-11-18 23:08:07,723 [MainThread  ] [INFO ]  b'turning all bonds into constraints...\\nturning all bonds into constraints...\\nturning all bonds into constraints...\\nturning all bonds into constraints...\\nAnalysing residue names:\\nThere are:    76    Protein residues\\nThere are:  8524      Water residues\\nThere are:    16        Ion residues\\nAnalysing Protein...\\nAnalysing residues not classified as Protein/DNA/RNA/Water and splitting into groups...\\nDetermining Verlet buffer for a tolerance of 0.005 kJ/mol/ps at 300 K\\nCalculated rlist for 1x1 atom pair-list as 1.036 nm, buffer size 0.036 nm\\nSet rlist, assuming 4x4 atom pair-list, to 1.000 nm, buffer size 0.000 nm\\nNote that mdrun will redetermine rlist based on the actual pair-list setup\\nCalculating fourier grid dimensions for X Y Z\\nUsing a fourier grid of 56x56x56, spacing 0.115 0.115 0.115\\nThis run will generate roughly 15 Mb of data\\n'\n"
     ]
    }
   ],
   "source": [
    "# Grompp: Creating portable binary run file for mdrun\n",
    "from biobb_md.gromacs.grompp import Grompp\n",
    "# Create prop dict and inputs/outputs\n",
    "prop = {'mdp':{'type': 'free', 'nsteps':'50000'}}\n",
    "output_gppmd_tpr_path = '1ubq_gppmd.tpr'\n",
    "#Create and launch bb\n",
    "Grompp(input_gro_path=output_npt_gro_path, input_top_zip_path=output_genion_top_zip_path, output_tpr_path=output_gppmd_tpr_path, input_cpt_path=output_npt_cpt_path,  properties=prop).launch()\n",
    "#Show log and protein\n",
    "showlog()"
   ]
  },
  {
   "cell_type": "code",
   "execution_count": 41,
   "metadata": {},
   "outputs": [
    {
     "name": "stdout",
     "output_type": "stream",
     "text": [
      "2018-11-18 23:08:07,191 [MainThread  ] [INFO ]  gmx mdrun -s 1ubq_gppmd.tpr -o 1ubq_md.trr -c 1ubq_md.gro -e 1ubq_md.edr -g 1ubq_md.log -nt 0 -cpo 1ubq_md.cpt\n",
      "\n",
      "2018-11-18 23:08:07,201 [MainThread  ] [INFO ]  Exit code 0\n",
      "\n",
      "2018-11-18 23:08:07,202 [MainThread  ] [INFO ]  b''\n"
     ]
    },
    {
     "data": {
      "application/vnd.jupyter.widget-view+json": {
       "model_id": "8c464131206c46c8823d6bdd7842ee3c",
       "version_major": 2,
       "version_minor": 0
      },
      "text/plain": [
       "NGLWidget(count=11)"
      ]
     },
     "metadata": {},
     "output_type": "display_data"
    },
    {
     "data": {
      "application/vnd.jupyter.widget-view+json": {
       "model_id": "2037fc084bee4819baac71bbf0683316",
       "version_major": 2,
       "version_minor": 0
      },
      "text/plain": [
       "Tab(children=(Box(children=(Box(children=(Box(children=(Label(value='step'), IntSlider(value=1, min=-100)), la…"
      ]
     },
     "metadata": {},
     "output_type": "display_data"
    }
   ],
   "source": [
    "# Mdrun: Running free dynamics\n",
    "from biobb_md.gromacs.mdrun import Mdrun\n",
    "# Create prop dict and inputs/outputs\n",
    "output_md_trr_path = '1ubq_md.trr'\n",
    "output_md_gro_path = '1ubq_md.gro'\n",
    "output_md_edr_path = '1ubq_md.edr'\n",
    "output_md_log_path = '1ubq_md.log'\n",
    "output_md_cpt_path = '1ubq_md.cpt'\n",
    "#Create and launch bb\n",
    "Mdrun(input_tpr_path=output_gppmd_tpr_path, output_trr_path=output_md_trr_path, output_gro_path=output_md_gro_path, output_edr_path=output_md_edr_path, output_log_path=output_md_log_path, output_cpt_path=output_md_cpt_path, properties={}).launch()\n",
    "#Show log and protein\n",
    "showlog()\n",
    "nglview.show_simpletraj(nglview.SimpletrajTrajectory(output_md_trr_path, output_md_gro_path), gui=True)"
   ]
  },
  {
   "cell_type": "code",
   "execution_count": null,
   "metadata": {},
   "outputs": [],
   "source": [
    "#Clean the directory Remove everything\n",
    "!find . ! -iname \"*.ipynb\" -exec rm -rf {} 2>/dev/null \\; -print"
   ]
  }
 ],
 "metadata": {
  "kernelspec": {
   "display_name": "Python 3",
   "language": "python",
   "name": "python3"
  },
  "language_info": {
   "codemirror_mode": {
    "name": "ipython",
    "version": 3
   },
   "file_extension": ".py",
   "mimetype": "text/x-python",
   "name": "python",
   "nbconvert_exporter": "python",
   "pygments_lexer": "ipython3",
   "version": "3.5.5"
  }
 },
 "nbformat": 4,
 "nbformat_minor": 2
}
